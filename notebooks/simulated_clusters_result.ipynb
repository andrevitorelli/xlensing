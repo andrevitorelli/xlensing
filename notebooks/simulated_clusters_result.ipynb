{
 "cells": [
  {
   "cell_type": "code",
   "execution_count": 1,
   "id": "b354da3b-fb3f-4c4f-aeea-140383c27730",
   "metadata": {},
   "outputs": [
    {
     "name": "stdout",
     "output_type": "stream",
     "text": [
      "Lookup table loaded!\n"
     ]
    }
   ],
   "source": [
    "import numpy as np\n",
    "\n",
    "#plots\n",
    "from matplotlib import pyplot as plt\n",
    "from getdist import plots, MCSamples\n",
    "from scipy import stats\n",
    "\n",
    "#astrophysics\n",
    "#import galsim\n",
    "import xlensing\n",
    "from astropy.cosmology import FlatLambdaCDM\n",
    "\n",
    "#saving\n",
    "from astropy.table import Table\n",
    "import pickle\n",
    "\n",
    "#MCMC\n",
    "import emcee\n",
    "\n",
    "#utilities\n",
    "#import os\n",
    "import time\n",
    "import warnings\n",
    "warnings.filterwarnings('ignore')"
   ]
  },
  {
   "cell_type": "code",
   "execution_count": 2,
   "id": "83756b5d-9dcc-4546-8cdc-94f60648a867",
   "metadata": {},
   "outputs": [
    {
     "name": "stdout",
     "output_type": "stream",
     "text": [
      "Populating the interactive namespace from numpy and matplotlib\n"
     ]
    }
   ],
   "source": [
    "%pylab inline"
   ]
  },
  {
   "cell_type": "code",
   "execution_count": 3,
   "id": "7faad655-a86f-4f57-b095-9b22526ec7c0",
   "metadata": {},
   "outputs": [],
   "source": [
    "mratio = np.load(\"mratio.npy\",allow_pickle=True)\n",
    "cratio = np.load(\"cratio.npy\",allow_pickle=True)\n",
    "\n",
    "mratio_low = np.load(\"mratio_lower_snr.npy\",allow_pickle=True)\n",
    "cratio_low = np.load(\"cratio_lower_snr.npy\",allow_pickle=True)"
   ]
  },
  {
   "cell_type": "code",
   "execution_count": 4,
   "id": "dca8a6a5-ee24-4cd6-ac65-c7f525cb20f0",
   "metadata": {},
   "outputs": [],
   "source": [
    "mratio_low1 = np.load(\"../scripts/old_results/mratio_lower_snr1.npy\",allow_pickle=True)"
   ]
  },
  {
   "cell_type": "code",
   "execution_count": 5,
   "id": "18b6349c-b1af-447d-8c3b-ea4d296cec77",
   "metadata": {},
   "outputs": [],
   "source": [
    "cratio_low1 = np.load(\"../scripts/old_results/cratio_lower_snr1.npy\",allow_pickle=True)"
   ]
  },
  {
   "cell_type": "code",
   "execution_count": 6,
   "id": "f0adcef9-f4b2-4960-9671-e75d1fc71ce4",
   "metadata": {},
   "outputs": [],
   "source": [
    "mratio1 =  np.load(\"../scripts/old_results/mratio_higher_snr1627895121.1424127.npy\",allow_pickle=True)"
   ]
  },
  {
   "cell_type": "code",
   "execution_count": 7,
   "id": "78aeb30f-0287-43dd-83d9-9b75aa5a031a",
   "metadata": {},
   "outputs": [],
   "source": [
    "cratio1 =  np.load(\"../scripts/old_results/cratio_higher_snr1627895121.1424127.npy\",allow_pickle=True)"
   ]
  },
  {
   "cell_type": "code",
   "execution_count": null,
   "id": "dc0dd389-33dd-4529-94b9-13be9880d6dc",
   "metadata": {},
   "outputs": [],
   "source": []
  },
  {
   "cell_type": "code",
   "execution_count": 8,
   "id": "842d6bd1-ad52-4266-b58a-1f6fd7e779a3",
   "metadata": {},
   "outputs": [],
   "source": [
    "mrationew = np.hstack([mratio,mratio1])"
   ]
  },
  {
   "cell_type": "code",
   "execution_count": 9,
   "id": "943cc757-be6a-4d51-bd26-97a2173f858b",
   "metadata": {},
   "outputs": [
    {
     "data": {
      "text/plain": [
       "0.9450496954015211"
      ]
     },
     "execution_count": 9,
     "metadata": {},
     "output_type": "execute_result"
    }
   ],
   "source": [
    "np.median(mrationew)"
   ]
  },
  {
   "cell_type": "code",
   "execution_count": 10,
   "id": "bab24efc-4f52-4709-b2ff-5f20b78c13ff",
   "metadata": {},
   "outputs": [],
   "source": [
    "crationew = np.hstack([cratio,cratio1])"
   ]
  },
  {
   "cell_type": "code",
   "execution_count": 11,
   "id": "ee28a214-1a3c-4254-a773-9cb8827ff742",
   "metadata": {},
   "outputs": [
    {
     "data": {
      "text/plain": [
       "1.0267822176886405"
      ]
     },
     "execution_count": 11,
     "metadata": {},
     "output_type": "execute_result"
    }
   ],
   "source": [
    "np.median(crationew)"
   ]
  },
  {
   "cell_type": "code",
   "execution_count": 12,
   "id": "5d8f6cc6-591f-4902-a936-a6209fcdc162",
   "metadata": {},
   "outputs": [],
   "source": [
    "mratio_low=np.hstack([mratio_low,mratio_low1])"
   ]
  },
  {
   "cell_type": "code",
   "execution_count": 13,
   "id": "32ebfbbe-16e0-445d-9744-a6afea4312c4",
   "metadata": {},
   "outputs": [],
   "source": [
    "cratio_low=np.hstack([cratio_low,cratio_low1])"
   ]
  },
  {
   "cell_type": "code",
   "execution_count": 14,
   "id": "15f19ba6-1a3e-4229-96a7-4a36f167712f",
   "metadata": {},
   "outputs": [],
   "source": [
    "mratiorange = np.load(\"../scripts/mratio_mass_range_higher_snr1628071582.9971664.npy\",allow_pickle=True)\n",
    "cratiorange = np.load(\"../scripts/cratio_mass_range_higher_snr1628071582.9971664.npy\",allow_pickle=True)"
   ]
  },
  {
   "cell_type": "code",
   "execution_count": 18,
   "id": "2516b5b2-3338-4865-b2fd-ae6e14bd8019",
   "metadata": {},
   "outputs": [],
   "source": [
    "mratiorangelow = np.load(\"../scripts/mratio_mass_range_lower_snr1628251455.9189878.npy\",allow_pickle=True)\n",
    "cratiorangelow = np.load(\"../scripts/cratio_mass_range_lower_snr1628251455.9189878.npy\",allow_pickle=True)"
   ]
  },
  {
   "cell_type": "code",
   "execution_count": 15,
   "id": "cea2b8e4-76cc-4413-b095-c367acc58b95",
   "metadata": {},
   "outputs": [
    {
     "data": {
      "image/png": "[encoded data removed]",
      "text/plain": [
       "<Figure size 720x360 with 2 Axes>"
      ]
     },
     "metadata": {
      "needs_background": "light"
     },
     "output_type": "display_data"
    }
   ],
   "source": [
    "figure(figsize=(10,5))\n",
    "subplot(121)\n",
    "hist(mratio_low,density=True,bins=20);\n",
    "hist(mrationew,alpha=0.7,density=True,bins=20);\n",
    "subplot(122)\n",
    "hist(cratio_low,density=True,bins=20);\n",
    "hist(cratio,alpha=0.7,density=True,bins=20);"
   ]
  },
  {
   "cell_type": "code",
   "execution_count": 16,
   "id": "091c8a06-2cdf-4ebe-b3ae-c6375ee153fe",
   "metadata": {},
   "outputs": [
    {
     "data": {
      "text/plain": [
       "0.9450496954015211"
      ]
     },
     "execution_count": 16,
     "metadata": {},
     "output_type": "execute_result"
    }
   ],
   "source": [
    "np.median(mrationew)"
   ]
  },
  {
   "cell_type": "code",
   "execution_count": 28,
   "id": "0be782ca-3f66-4370-b7bf-9d460fb1bb1c",
   "metadata": {},
   "outputs": [
    {
     "data": {
      "image/png": "[encoded data removed]",
      "text/plain": [
       "<Figure size 792x720 with 8 Axes>"
      ]
     },
     "metadata": {
      "needs_background": "light"
     },
     "output_type": "display_data"
    }
   ],
   "source": [
    "figure(figsize=(11,10))\n",
    "subplot(221)\n",
    "plt.hist2d(mrationew,crationew,range=np.array([(0, 2.5), (0, 2.5)]),bins=30); colorbar()\n",
    "plt.plot([0,2.5],[1,1],'r--')\n",
    "plt.plot([1,1],[0,2.5],'r--')\n",
    "plt.plot([0.,2.5],[np.median(crationew),np.median(crationew)],'c--')\n",
    "plt.plot([np.median(mrationew),np.median(mrationew)],[0.,2.5],'c--')\n",
    "plt.title(\"High SNR (10x bkg galaxies), same mass\")\n",
    "plt.ylabel(\"$c_{median}/c_{true}$\",fontsize=20)\n",
    "\n",
    "subplot(222)\n",
    "plt.hist2d(mratio_low,cratio_low,range=np.array([(0, 2.5), (0, 2.5)]),bins=30); colorbar()\n",
    "plt.plot([0,2.5],[1,1],'r--')\n",
    "plt.plot([1,1],[0,2.5],'r--')\n",
    "plt.plot([0.,2.5],[np.median(cratio_low),np.median(cratio_low)],'c--')\n",
    "plt.plot([np.median(mratio_low),np.median(mratio_low)],[0.,2.5],'c--')\n",
    "plt.title(\"Low SNR, all same mass\")\n",
    "\n",
    "\n",
    "subplot(223)\n",
    "plt.hist2d(mratiorange,cratiorange,range=np.array([(0, 2.5), (0, 2.5)]),bins=30); colorbar()\n",
    "plt.plot([0.,2.5],[1,1],'r--')\n",
    "plt.plot([1,1],[0.,2.5],'r--')\n",
    "plt.plot([0.,2.5],[np.median(cratiorange),np.median(cratiorange)],'c--')\n",
    "plt.plot([np.median(mratiorange),np.median(mratiorange)],[0.,2.5],'c--')\n",
    "plt.title(\"High SNR (10x bkg galaxies), several masses\")\n",
    "plt.xlabel(\"$M_{median}/M_{true}$\",fontsize=20)\n",
    "plt.ylabel(\"$c_{median}/c_{true}$\",fontsize=20)\n",
    "\n",
    "subplot(224)\n",
    "plt.hist2d(mratiorangelow,cratiorangelow,range=np.array([(0, 2.5), (0, 2.5)]),bins=30); colorbar()\n",
    "plt.plot([0.,2.5],[1,1],'r--')\n",
    "plt.plot([1,1],[0.,2.5],'r--')\n",
    "plt.plot([0.,2.5],[np.median(cratiorangelow),np.median(cratiorangelow)],'c--')\n",
    "plt.plot([np.median(mratiorangelow),np.median(mratiorangelow)],[0.,2.5],'c--')\n",
    "plt.title(\"Low SNR, several masses\")\n",
    "plt.xlabel(\"$M_{median}/M_{true}$\",fontsize=20)\n",
    "\n",
    "\n",
    "plt.savefig('simulated_clusters_test.png',bbox_inches='tight')"
   ]
  },
  {
   "cell_type": "raw",
   "id": "6dc29de7-9603-44e6-a97b-69ba062c1cda",
   "metadata": {},
   "source": []
  },
  {
   "cell_type": "code",
   "execution_count": null,
   "id": "6c9aa650-d190-42ef-b974-603111d4f2d5",
   "metadata": {},
   "outputs": [],
   "source": []
  }
 ],
 "metadata": {
  "kernelspec": {
   "display_name": "Python 3",
   "language": "python",
   "name": "python3"
  },
  "language_info": {
   "codemirror_mode": {
    "name": "ipython",
    "version": 3
   },
   "file_extension": ".py",
   "mimetype": "text/x-python",
   "name": "python",
   "nbconvert_exporter": "python",
   "pygments_lexer": "ipython3",
   "version": "3.8.6"
  }
 },
 "nbformat": 4,
 "nbformat_minor": 5
}
