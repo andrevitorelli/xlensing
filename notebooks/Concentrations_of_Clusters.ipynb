{
 "cells": [
  {
   "cell_type": "markdown",
   "metadata": {},
   "source": [
    "# Concentrations and the Age of Galaxy Clusters"
   ]
  },
  {
   "cell_type": "markdown",
   "metadata": {},
   "source": [
    "This notebook is an application of the xlensing code over several surveys to investigate the relationship between cluster mass concentration and observables that may relate to mass accretion age."
   ]
  },
  {
   "cell_type": "code",
   "execution_count": 1,
   "metadata": {},
   "outputs": [
    {
     "name": "stdout",
     "output_type": "stream",
     "text": [
      "Lookup table loaded!\n"
     ]
    }
   ],
   "source": [
    "import numpy as np\n",
    "np.set_printoptions(linewidth=400)\n",
    "from matplotlib import pyplot as plt\n",
    "from getdist import plots, MCSamples\n",
    "from astropy.table import Table\n",
    "\n",
    "import os\n",
    "import pickle\n",
    "\n",
    "import xlensing\n",
    "\n",
    "import emcee\n",
    "import time"
   ]
  },
  {
   "cell_type": "markdown",
   "metadata": {},
   "source": [
    "## Fetching Data"
   ]
  },
  {
   "cell_type": "markdown",
   "metadata": {},
   "source": [
    "CS82: A weak-lensing survey done on stripe 82 by CFHT"
   ]
  },
  {
   "cell_type": "code",
   "execution_count": 2,
   "metadata": {},
   "outputs": [],
   "source": [
    "CS82_DIR = os.path.expanduser(\"~/Data/CS82_REDMAPPER\")\n",
    "CS82_SOURCES = \"sources_cleaner_final.fits\"\n",
    "CS82_CLUSTERS = \"tcpure.fits\""
   ]
  },
  {
   "cell_type": "markdown",
   "metadata": {},
   "source": [
    "DES: A multi probe modern survey on the south hemisphere"
   ]
  },
  {
   "cell_type": "code",
   "execution_count": 3,
   "metadata": {},
   "outputs": [],
   "source": [
    "DES_DIR = \"Data/DES_REDMAPPER\"\n",
    "DES_SOURCES = \"sources_cleaner_final.fits\"\n",
    "DES_CLUSTERS = \"tcpure.fits\""
   ]
  },
  {
   "cell_type": "markdown",
   "metadata": {},
   "source": [
    "## CS82 Data"
   ]
  },
  {
   "cell_type": "code",
   "execution_count": 4,
   "metadata": {},
   "outputs": [],
   "source": [
    "sources  = Table.read(os.path.join(CS82_DIR,CS82_SOURCES))\n",
    "clusters = Table.read(os.path.join(CS82_DIR,CS82_CLUSTERS))\n",
    "\n",
    "clusters['RA_RAD'] = np.radians(clusters['RA'])\n",
    "clusters['DEC_RAD']= np.radians(clusters['DEC'])\n",
    "clusters['loc'] = np.array([i for i in range(len(clusters))])\n",
    "\n",
    "sr_RA = np.radians(np.array(sources['RA']))\n",
    "sr_DEC= np.radians(np.array(sources['DEC']))\n",
    "sr_z  = np.array(sources['BPZ_ZPHOT'])\n",
    "sr_E1 = np.array(sources['E1CORR'])\n",
    "sr_E2 = np.array(sources['E2CORR'])\n",
    "sr_W = np.array(sources['WEIGHT'])\n",
    "sr_M = np.array(sources['M'])\n",
    "\n",
    "clusters['INDEX'] = np.array(range(len(clusters)))"
   ]
  },
  {
   "cell_type": "code",
   "execution_count": 5,
   "metadata": {},
   "outputs": [],
   "source": [
    "cl_RA=np.radians(np.array(clusters['RA']))\n",
    "cl_DEC= np.radians(np.array(clusters['DEC']))\n",
    "cl_z= np.array(clusters['Z'])\n",
    "cl = np.array([cl_RA,cl_DEC,cl_z]).T"
   ]
  },
  {
   "cell_type": "markdown",
   "metadata": {},
   "source": [
    "Getting lensing signal for all clusters:"
   ]
  },
  {
   "cell_type": "code",
   "execution_count": 6,
   "metadata": {},
   "outputs": [
    {
     "name": "stderr",
     "output_type": "stream",
     "text": [
      "Process ForkPoolWorker-8:\n",
      "Process ForkPoolWorker-4:\n",
      "Process ForkPoolWorker-3:\n",
      "Process ForkPoolWorker-1:\n",
      "Process ForkPoolWorker-2:\n",
      "Process ForkPoolWorker-7:\n",
      "Traceback (most recent call last):\n",
      "Traceback (most recent call last):\n",
      "Traceback (most recent call last):\n",
      "Traceback (most recent call last):\n",
      "Traceback (most recent call last):\n",
      "Traceback (most recent call last):\n",
      "  File \"/usr/lib64/python3.8/multiprocessing/process.py\", line 315, in _bootstrap\n",
      "    self.run()\n",
      "  File \"/usr/lib64/python3.8/multiprocessing/process.py\", line 315, in _bootstrap\n",
      "    self.run()\n",
      "  File \"/usr/lib64/python3.8/multiprocessing/process.py\", line 315, in _bootstrap\n",
      "    self.run()\n",
      "  File \"/usr/lib64/python3.8/multiprocessing/process.py\", line 315, in _bootstrap\n",
      "    self.run()\n",
      "  File \"/usr/lib64/python3.8/multiprocessing/process.py\", line 315, in _bootstrap\n",
      "    self.run()\n",
      "  File \"/usr/lib64/python3.8/multiprocessing/process.py\", line 315, in _bootstrap\n",
      "    self.run()\n",
      "  File \"/usr/lib64/python3.8/multiprocessing/process.py\", line 108, in run\n",
      "    self._target(*self._args, **self._kwargs)\n",
      "  File \"/usr/lib64/python3.8/multiprocessing/process.py\", line 108, in run\n",
      "    self._target(*self._args, **self._kwargs)\n",
      "  File \"/usr/lib64/python3.8/multiprocessing/process.py\", line 108, in run\n",
      "    self._target(*self._args, **self._kwargs)\n",
      "  File \"/usr/lib64/python3.8/multiprocessing/process.py\", line 108, in run\n",
      "    self._target(*self._args, **self._kwargs)\n",
      "  File \"/usr/lib64/python3.8/multiprocessing/process.py\", line 108, in run\n",
      "    self._target(*self._args, **self._kwargs)\n",
      "  File \"/usr/lib64/python3.8/multiprocessing/process.py\", line 108, in run\n",
      "    self._target(*self._args, **self._kwargs)\n",
      "  File \"/usr/lib64/python3.8/multiprocessing/pool.py\", line 114, in worker\n",
      "    task = get()\n",
      "  File \"/usr/lib64/python3.8/multiprocessing/pool.py\", line 114, in worker\n",
      "    task = get()\n",
      "  File \"/usr/lib64/python3.8/multiprocessing/pool.py\", line 114, in worker\n",
      "    task = get()\n",
      "  File \"/usr/lib64/python3.8/multiprocessing/pool.py\", line 114, in worker\n",
      "    task = get()\n",
      "  File \"/usr/lib64/python3.8/multiprocessing/pool.py\", line 114, in worker\n",
      "    task = get()\n",
      "  File \"/usr/lib64/python3.8/multiprocessing/pool.py\", line 114, in worker\n",
      "    task = get()\n",
      "  File \"/usr/lib64/python3.8/multiprocessing/queues.py\", line 355, in get\n",
      "    with self._rlock:\n",
      "  File \"/usr/lib64/python3.8/multiprocessing/queues.py\", line 356, in get\n",
      "    res = self._reader.recv_bytes()\n",
      "  File \"/usr/lib64/python3.8/multiprocessing/queues.py\", line 355, in get\n",
      "    with self._rlock:\n",
      "  File \"/usr/lib64/python3.8/multiprocessing/queues.py\", line 355, in get\n",
      "    with self._rlock:\n",
      "  File \"/usr/lib64/python3.8/multiprocessing/queues.py\", line 355, in get\n",
      "    with self._rlock:\n",
      "  File \"/usr/lib64/python3.8/multiprocessing/queues.py\", line 355, in get\n",
      "    with self._rlock:\n",
      "  File \"/usr/lib64/python3.8/multiprocessing/synchronize.py\", line 95, in __enter__\n",
      "    return self._semlock.__enter__()\n",
      "  File \"/usr/lib64/python3.8/multiprocessing/connection.py\", line 220, in recv_bytes\n",
      "    buf = self._recv_bytes(maxlength)\n",
      "  File \"/usr/lib64/python3.8/multiprocessing/synchronize.py\", line 95, in __enter__\n",
      "    return self._semlock.__enter__()\n",
      "  File \"/usr/lib64/python3.8/multiprocessing/synchronize.py\", line 95, in __enter__\n",
      "    return self._semlock.__enter__()\n",
      "  File \"/usr/lib64/python3.8/multiprocessing/synchronize.py\", line 95, in __enter__\n",
      "    return self._semlock.__enter__()\n",
      "  File \"/usr/lib64/python3.8/multiprocessing/synchronize.py\", line 95, in __enter__\n",
      "    return self._semlock.__enter__()\n",
      "KeyboardInterrupt\n",
      "  File \"/usr/lib64/python3.8/multiprocessing/connection.py\", line 418, in _recv_bytes\n",
      "    buf = self._recv(4)\n",
      "KeyboardInterrupt\n",
      "KeyboardInterrupt\n",
      "KeyboardInterrupt\n",
      "KeyboardInterrupt\n",
      "  File \"/usr/lib64/python3.8/multiprocessing/connection.py\", line 383, in _recv\n",
      "    chunk = read(handle, remaining)\n",
      "KeyboardInterrupt\n",
      "Process ForkPoolWorker-5:\n",
      "Traceback (most recent call last):\n",
      "  File \"/usr/lib64/python3.8/multiprocessing/process.py\", line 315, in _bootstrap\n",
      "    self.run()\n",
      "  File \"/usr/lib64/python3.8/multiprocessing/process.py\", line 108, in run\n",
      "    self._target(*self._args, **self._kwargs)\n",
      "  File \"/usr/lib64/python3.8/multiprocessing/pool.py\", line 114, in worker\n",
      "    task = get()\n",
      "  File \"/usr/lib64/python3.8/multiprocessing/queues.py\", line 355, in get\n",
      "    with self._rlock:\n",
      "  File \"/usr/lib64/python3.8/multiprocessing/synchronize.py\", line 95, in __enter__\n",
      "    return self._semlock.__enter__()\n",
      "KeyboardInterrupt\n",
      "Process ForkPoolWorker-6:\n",
      "Traceback (most recent call last):\n",
      "  File \"/usr/lib64/python3.8/multiprocessing/process.py\", line 315, in _bootstrap\n",
      "    self.run()\n",
      "  File \"/usr/lib64/python3.8/multiprocessing/pool.py\", line 114, in worker\n",
      "    task = get()\n",
      "  File \"/usr/lib64/python3.8/multiprocessing/process.py\", line 108, in run\n",
      "    self._target(*self._args, **self._kwargs)\n",
      "  File \"/usr/lib64/python3.8/multiprocessing/queues.py\", line 355, in get\n",
      "    with self._rlock:\n",
      "  File \"/usr/lib64/python3.8/multiprocessing/synchronize.py\", line 95, in __enter__\n",
      "    return self._semlock.__enter__()\n",
      "KeyboardInterrupt\n"
     ]
    }
   ],
   "source": [
    "#let's use multiprocessing\n",
    "from multiprocessing import Pool, freeze_support, cpu_count\n",
    "from functools import partial\n",
    "\n",
    "# you can use whatever, but your machine core count is usually a good choice (although maybe not the best)\n",
    "pool = Pool(8) \n",
    "\n",
    "\n",
    "#We get a partial function with a constant galaxy catalogue to iterate with clusters.\n",
    "survey_lensing = partial(xlensing.data.cluster_lensing,sources=(sr_RA, sr_DEC, sr_z, sr_E1, sr_E2, sr_W,sr_M),radius=10.)"
   ]
  },
  {
   "cell_type": "code",
   "execution_count": 7,
   "metadata": {},
   "outputs": [],
   "source": [
    "#Make a list of clusters to get lensing data\n",
    "clz = zip(cl_RA,cl_DEC,cl_z)\n",
    "clzlist = [x for x in clz]"
   ]
  },
  {
   "cell_type": "code",
   "execution_count": 8,
   "metadata": {},
   "outputs": [],
   "source": [
    "results = pool.map(survey_lensing, clzlist)"
   ]
  },
  {
   "cell_type": "code",
   "execution_count": null,
   "metadata": {},
   "outputs": [],
   "source": []
  },
  {
   "cell_type": "markdown",
   "metadata": {},
   "source": [
    "### Stacking CS82 Data"
   ]
  },
  {
   "cell_type": "code",
   "execution_count": 9,
   "metadata": {},
   "outputs": [
    {
     "data": {
      "text/plain": [
       "array([[0.10964782, 0.22908677],\n",
       "       [0.22908677, 0.47863009],\n",
       "       [0.47863009, 1.        ],\n",
       "       [1.        , 2.08929613],\n",
       "       [2.08929613, 4.36515832],\n",
       "       [4.36515832, 9.12010839]])"
      ]
     },
     "execution_count": 9,
     "metadata": {},
     "output_type": "execute_result"
    }
   ],
   "source": [
    "radii = np.logspace(-.8,.8,6)\n",
    "N = len(radii)\n",
    "bins_lims = np.logspace(np.log10(radii[0])+(np.log10(radii[0])-np.log10(radii[1]))/2,\n",
    "                        np.log10(radii[N-1])-(np.log10(radii[0])-np.log10(radii[1]))/2,N+1)\n",
    "bins_lims = np.array([[bins_lims[i],bins_lims[i+1]] for i in range(N)])\n",
    "bins_lims #in Mpc/h"
   ]
  },
  {
   "cell_type": "code",
   "execution_count": 10,
   "metadata": {},
   "outputs": [
    {
     "data": {
      "text/html": [
       "<i>Table length=1204</i>\n",
       "<table id=\"table139794782322208\" class=\"table-striped table-bordered table-condensed\">\n",
       "<thead><tr><th>MEM_MATCH_ID</th><th>RA</th><th>DEC</th><th>MODEL_MAG [4]</th><th>MODEL_MAGERR [4]</th><th>IMAG</th><th>IMAG_ERR</th><th>ZRED</th><th>ZRED_E</th><th>BCG_SPEC_Z</th><th>Z_SPEC_INIT</th><th>Z_INIT</th><th>Z</th><th>LAMBDA_CHISQ</th><th>LAMBDA_CHISQ_E</th><th>R_LAMBDA</th><th>SCALEVAL</th><th>MASKFRAC</th><th>C_LAMBDA [3]</th><th>C_LAMBDA_ERR [3]</th><th>MAG_LAMBDA_ERR [4]</th><th>Z_LAMBDA</th><th>Z_LAMBDA_E</th><th>PHOTOID</th><th>LNLAMLIKE</th><th>LNBCGLIKE</th><th>LNLIKE</th><th>PZBINS [21]</th><th>PZ [21]</th><th>NCROSS</th><th>CHISQ</th><th>RMASK</th><th>RA_ORIG</th><th>DEC_ORIG</th><th>W</th><th>DLAMBDA_DZ</th><th>DLAMBDA_DZ2</th><th>LAMBDA_CHISQ_C</th><th>LAMBDA_CHISQ_CE</th><th>NCENT</th><th>NCENT_GOOD</th><th>RA_CENT [5]</th><th>DEC_CENT [5]</th><th>LAMBDA_CHISQ_CENT [5]</th><th>P_BCG [5]</th><th>P_CEN [5]</th><th>Q_CEN [5]</th><th>P_FG [5]</th><th>Q_MISS</th><th>P_SAT [5]</th><th>P_C [5]</th><th>BCG_ILUM</th><th>ILUM</th><th>Z_LAMBDA_RAW</th><th>Z_LAMBDA_E_RAW</th><th>RMAG</th><th>RMAG_ERR</th><th>I_ABS</th><th>R_ABS</th><th>I_ABS_ERR</th><th>RC</th><th>RA_RAD</th><th>DEC_RAD</th><th>ANG_DIST</th><th>OFF</th><th>DELTA12</th><th>DELTA14</th><th>DELTA12_E</th><th>DELTA14_E</th><th>DELTA12i</th><th>DELTA14i</th><th>DELTA12i_E</th><th>DELTA14i_E</th><th>loc</th><th>INDEX</th></tr></thead>\n",
       "<thead><tr><th>int32</th><th>float64</th><th>float64</th><th>float32</th><th>float32</th><th>float32</th><th>float32</th><th>float32</th><th>float32</th><th>float32</th><th>float32</th><th>float32</th><th>float32</th><th>float32</th><th>float32</th><th>float32</th><th>float32</th><th>float32</th><th>float32</th><th>float32</th><th>float32</th><th>float32</th><th>float32</th><th>int64</th><th>float32</th><th>float32</th><th>float32</th><th>float32</th><th>float32</th><th>int16</th><th>float32</th><th>float32</th><th>float64</th><th>float64</th><th>float32</th><th>float32</th><th>float32</th><th>float32</th><th>float32</th><th>int16</th><th>int16</th><th>float64</th><th>float64</th><th>float32</th><th>float32</th><th>float32</th><th>float32</th><th>float32</th><th>float32</th><th>float32</th><th>float32</th><th>float32</th><th>float32</th><th>float32</th><th>float32</th><th>float32</th><th>float32</th><th>float64</th><th>float64</th><th>float64</th><th>float64</th><th>float64</th><th>float64</th><th>float64</th><th>float64</th><th>float64</th><th>float64</th><th>float64</th><th>float64</th><th>float64</th><th>float64</th><th>float64</th><th>float64</th><th>int64</th><th>int64</th></tr></thead>\n",
       "<tr><td>1</td><td>16.2307053673809</td><td>0.0600784414074361</td><td>18.647577 .. 16.187979</td><td>0.004746176 .. 0.0052168607</td><td>16.634409</td><td>0.0026340093</td><td>0.28054503</td><td>0.027775757</td><td>0.2721152</td><td>-1.0</td><td>0.2966604</td><td>0.27909264</td><td>129.0613</td><td>3.9403718</td><td>1.0523475</td><td>1.0204104</td><td>0.020098258</td><td>1.4421864 .. 0.32955647</td><td>0.00023076149 .. 0.00028813593</td><td>0.00018567569 .. 0.00024614384</td><td>0.27856418</td><td>0.0056202253</td><td>8647474691952214335</td><td>260.9949</td><td>-11.408179</td><td>249.58673</td><td>0.24536653 .. 0.31176186</td><td>2.4961466e-07 .. 9.1132415e-06</td><td>1</td><td>20.00838</td><td>1.5785213</td><td>16.2219577188081</td><td>0.0572111031662401</td><td>1.2109578</td><td>282.21704</td><td>142176.36</td><td>129.0613</td><td>0.0</td><td>5</td><td>1</td><td>16.2307053673809 .. 16.1892315365293</td><td>0.0600784414074361 .. 0.0570865139335213</td><td>129.0613 .. 0.0</td><td>1.0 .. 1.0</td><td>0.99309963 .. 1.2844469e-06</td><td>0.7817249 .. 1.0110607e-06</td><td>0.0061073024 .. 0.04724999</td><td>-3.0691457</td><td>0.0007930675 .. 0.9527487</td><td>0.7859942 .. 4.7502335e-06</td><td>6.3600526</td><td>94.09513</td><td>0.2760749</td><td>0.0028446568</td><td>17.083977</td><td>0.0027141855</td><td>-23.431799798242437</td><td>-23.23006549634847</td><td>0.05024059404227888</td><td>1.052347572042745</td><td>0.28327924858191256</td><td>0.001048566612026256</td><td>611.3698729250331</td><td>-1.131240033096465</td><td>-1.0152276659559731</td><td>-1.3608049170568708</td><td>0.007445225407160989</td><td>0.04422952227499255</td><td>-0.6755099661811274</td><td>-1.3608049170568708</td><td>0.049027354264307196</td><td>0.04422952227499255</td><td>0</td><td>0</td></tr>\n",
       "<tr><td>2</td><td>319.745339515063</td><td>0.54863787828688</td><td>19.121187 .. 16.732477</td><td>0.005639173 .. 0.0050343815</td><td>17.020544</td><td>0.003244757</td><td>0.27132493</td><td>0.020120876</td><td>0.2714618</td><td>-1.0</td><td>0.26648504</td><td>0.27276736</td><td>111.25874</td><td>7.502259</td><td>1.021567</td><td>1.1576991</td><td>0.13649784</td><td>1.4364176 .. 0.32535648</td><td>0.00035934235 .. 0.00031251123</td><td>0.0002934845 .. 0.0002453122</td><td>0.2745094</td><td>0.0055593783</td><td>8647474692464314008</td><td>185.94345</td><td>-9.159557</td><td>176.78389</td><td>0.24144626 .. 0.3075725</td><td>2.2228284e-07 .. 8.526877e-06</td><td>1</td><td>1.1773758</td><td>1.5323505</td><td>319.723093774217</td><td>0.555050547929636</td><td>1.0433084</td><td>308.15048</td><td>-79325.87</td><td>110.57268</td><td>1.5540396</td><td>5</td><td>3</td><td>319.745339515063 .. 319.770966977898</td><td>0.54863787828688 .. 0.545693995246297</td><td>111.25874 .. 94.61556</td><td>1.0 .. 1.0</td><td>0.82213867 .. 0.00024008655</td><td>0.1346624 .. 3.9325038e-05</td><td>0.0025292912 .. 0.061875854</td><td>-0.28250533</td><td>0.17533204 .. 0.93788403</td><td>0.13870323 .. 4.7025787e-05</td><td>4.3183436</td><td>70.334114</td><td>0.27245635</td><td>0.0031583756</td><td>17.605072</td><td>0.0032216525</td><td>-22.949817165560678</td><td>-22.590864864825193</td><td>0.050371972768205764</td><td>1.0215669404607415</td><td>5.580608942444979</td><td>0.009575537377261963</td><td>601.4559737046873</td><td>-0.9534992833319343</td><td>-0.16228894138897043</td><td>-1.190730425473479</td><td>0.026750189053239646</td><td>0.02218560954813345</td><td>-0.18267357417841915</td><td>-1.190730425473479</td><td>0.01731230223179656</td><td>0.02218560954813345</td><td>1</td><td>1</td></tr>\n",
       "<tr><td>5</td><td>21.8067611456837</td><td>0.368384593213716</td><td>20.260712 .. 17.524948</td><td>0.009013603 .. 0.0076780287</td><td>17.861452</td><td>0.0035442843</td><td>0.37778175</td><td>0.02503751</td><td>-1.0</td><td>-1.0</td><td>0.37778175</td><td>0.36612427</td><td>101.99897</td><td>5.4666605</td><td>1.0039663</td><td>1.0737584</td><td>0.07114987</td><td>1.6199294 .. 0.36789918</td><td>0.0008174089 .. 0.0006768021</td><td>0.00071816845 .. 0.00059047964</td><td>0.3700569</td><td>0.0101917265</td><td>8647475121451369167</td><td>154.86143</td><td>-2.850172</td><td>152.01126</td><td>0.3175113 .. 0.42260247</td><td>0.00088045583 .. 5.630399e-06</td><td>1</td><td>2.1543555</td><td>1.5059495</td><td>21.8067611456837</td><td>0.368384593213716</td><td>1.0263904</td><td>617.8265</td><td>129972.38</td><td>101.99897</td><td>0.0</td><td>5</td><td>1</td><td>21.8067611456837 .. 21.8020113935124</td><td>0.368384593213716 .. 0.367462107867185</td><td>101.99897 .. 0.0</td><td>1.0 .. 1.0</td><td>0.9999478 .. 6.1784607e-07</td><td>0.10538929 .. 6.511776e-08</td><td>1.6133619e-06 .. 0.01794305</td><td>-0.120597534</td><td>5.0600305e-05 .. 0.9820564</td><td>0.10538987 .. 7.2789376e-08</td><td>4.091251</td><td>61.57812</td><td>0.36706418</td><td>0.0038991878</td><td>18.519321</td><td>0.0038105468</td><td>-23.060933235663477</td><td>-22.85000776262007</td><td>0.07020309678291173</td><td>1.0039663511363064</td><td>0.3805997811881514</td><td>0.006429524065199303</td><td>734.1833183957764</td><td>-0.8678359504945343</td><td>-1.2138663183845924</td><td>-1.458631776133529</td><td>0.004119188218218417</td><td>0.016654823255445178</td><td>-1.1430963542657133</td><td>-1.458631776133529</td><td>0.017007492322617352</td><td>0.016654823255445178</td><td>2</td><td>2</td></tr>\n",
       "<tr><td>7</td><td>34.5703396165445</td><td>-0.694962773650676</td><td>22.71366 .. 19.07639</td><td>0.10047227 .. 0.029924598</td><td>19.675817</td><td>0.01543055</td><td>0.6892811</td><td>0.036608476</td><td>0.67454547</td><td>-1.0</td><td>0.71842366</td><td>0.6967294</td><td>113.97413</td><td>5.6567326</td><td>1.0265055</td><td>1.038337</td><td>0.036726367</td><td>1.5988871 .. 0.5441455</td><td>0.041482415 .. 0.0054980605</td><td>0.0373285 .. 0.0044301823</td><td>0.67774034</td><td>0.015698751</td><td>8647474690886468382</td><td>141.4194</td><td>-2.8194087</td><td>138.59999</td><td>0.5814968 .. 0.77398396</td><td>7.847647e-08 .. 2.467684e-06</td><td>1</td><td>0.5078094</td><td>1.5397582</td><td>34.5743505344914</td><td>-0.695078695280903</td><td>1.4071784</td><td>115.937805</td><td>-35391.543</td><td>113.16321</td><td>2.598076</td><td>5</td><td>4</td><td>34.5703396165445 .. 34.5683540306179</td><td>-0.694962773650676 .. -0.695455128384318</td><td>113.97413 .. 110.541756</td><td>1.0 .. 1.0</td><td>0.6768037 .. 0.0004428794</td><td>0.57741874 .. 0.00037784496</td><td>0.00019706751 .. 0.00048815884</td><td>-5.800509</td><td>0.32299924 .. 0.999069</td><td>0.79724973 .. 0.0025664903</td><td>4.3712606</td><td>90.21472</td><td>0.68840265</td><td>0.0072283065</td><td>20.91287</td><td>0.028767627</td><td>-23.10306950292237</td><td>-22.881823995960524</td><td>0.07104430469959033</td><td>1.0265054421565272</td><td>0.6033662498413355</td><td>-0.01212938857899639</td><td>1029.8272169824186</td><td>-1.2835374971325533</td><td>-0.1812687809558522</td><td>-0.3824820154737283</td><td>0.01834489375339231</td><td>0.20604469389502078</td><td>-0.150780521025356</td><td>-0.3824820154737283</td><td>0.020473166165163807</td><td>0.20604469389502078</td><td>3</td><td>3</td></tr>\n",
       "<tr><td>9</td><td>41.9594751330461</td><td>-0.478172727302248</td><td>20.330894 .. 17.520868</td><td>0.0117941 .. 0.007474842</td><td>17.93876</td><td>0.0039465944</td><td>0.3553608</td><td>0.018280003</td><td>-1.0</td><td>-1.0</td><td>0.3553608</td><td>0.35969678</td><td>79.71146</td><td>3.8162625</td><td>0.9556616</td><td>1.0404073</td><td>0.037159763</td><td>1.6235131 .. 0.37802628</td><td>0.0005999719 .. 0.00034251655</td><td>0.00051646976 .. 0.0002781546</td><td>0.3618779</td><td>0.010506855</td><td>8647475120386474479</td><td>138.0781</td><td>-4.416762</td><td>133.66133</td><td>0.30626136 .. 0.41749442</td><td>9.0554124e-05 .. 5.1110756e-06</td><td>1</td><td>11.160947</td><td>1.4334924</td><td>41.9594751330461</td><td>-0.478172727302248</td><td>1.2227175</td><td>324.93097</td><td>57968.902</td><td>79.71146</td><td>0.0</td><td>5</td><td>1</td><td>41.9594751330461 .. 41.9360526779047</td><td>-0.478172727302248 .. -0.533166060132167</td><td>79.71146 .. 0.0</td><td>1.0 .. 1.0</td><td>0.98954153 .. 0.00038462048</td><td>0.49757713 .. 0.00019340104</td><td>0.0019971463 .. 0.3656475</td><td>-1.2923663</td><td>0.008461323 .. 0.6339679</td><td>0.50020766 .. 0.0003888573</td><td>3.596392</td><td>59.71333</td><td>0.35871595</td><td>0.0041919136</td><td>18.56208</td><td>0.0042659068</td><td>-22.813061692427446</td><td>-22.60657187651222</td><td>0.07388500419188782</td><td>0.9556616286123158</td><td>0.7323309934803401</td><td>-0.008345688484665211</td><td>725.9233299788391</td><td>-0.9248321038416599</td><td>-0.40441588157611036</td><td>-0.8593252160268031</td><td>0.08201414649837302</td><td>0.04340963607819696</td><td>-0.5246343402985649</td><td>-0.8593252160268031</td><td>0.05102571463510274</td><td>0.04340963607819696</td><td>4</td><td>4</td></tr>\n",
       "<tr><td>11</td><td>40.314365764827</td><td>-0.311413898942587</td><td>21.778233 .. 18.177013</td><td>0.040514898 .. 0.013861568</td><td>18.931686</td><td>0.0069666374</td><td>0.7081557</td><td>0.026029902</td><td>-1.0</td><td>-1.0</td><td>0.7081557</td><td>0.6938552</td><td>97.88013</td><td>5.044552</td><td>0.99572384</td><td>1.0406662</td><td>0.040341172</td><td>1.5547222 .. 0.54302835</td><td>0.040041305 .. 0.006383568</td><td>0.03528013 .. 0.005289709</td><td>0.68097514</td><td>0.016040727</td><td>8647474691425895556</td><td>133.16977</td><td>-3.4948282</td><td>129.67494</td><td>0.5846108 .. 0.77733946</td><td>2.9265925e-07 .. 2.2979686e-06</td><td>1</td><td>3.371668</td><td>1.4935858</td><td>40.314365764827</td><td>-0.311413898942587</td><td>1.4495598</td><td>442.39426</td><td>-24407.959</td><td>97.88013</td><td>0.0</td><td>5</td><td>1</td><td>40.314365764827 .. 40.3416568291313</td><td>-0.311413898942587 .. -0.306729069866578</td><td>97.88013 .. 0.0</td><td>1.0 .. 1.0</td><td>0.99991477 .. 1.7167693e-07</td><td>0.9944385 .. 1.707367e-07</td><td>1.1321454e-06 .. 0.038760226</td><td>-10.3551445</td><td>8.4102496e-05 .. 0.9612396</td><td>0.99452275 .. 3.117376e-05</td><td>8.862376</td><td>73.911736</td><td>0.69249827</td><td>0.008199433</td><td>20.041609</td><td>0.013328017</td><td>-23.913108106852405</td><td>-23.806059605008386</td><td>0.06437355152951746</td><td>0.9957238388477271</td><td>0.7036184184495132</td><td>-0.005435197873021031</td><td>1028.1147606427667</td><td>-1.0122858311088954</td><td>-1.7253283761927798</td><td>-2.081431999634234</td><td>0.019482011371733273</td><td>0.018144237208990867</td><td>-1.383975145384429</td><td>-2.081431999634234</td><td>0.017526704414146596</td><td>0.018144237208990867</td><td>5</td><td>5</td></tr>\n",
       "<tr><td>12</td><td>326.024887986787</td><td>-0.456124199590482</td><td>21.540579 .. 18.042706</td><td>0.054501772 .. 0.018158555</td><td>18.58858</td><td>0.008868007</td><td>0.57598335</td><td>0.027879106</td><td>0.593962</td><td>0.593962</td><td>0.57598335</td><td>0.5705713</td><td>93.56297</td><td>5.219958</td><td>0.98678106</td><td>1.0753</td><td>0.06957328</td><td>1.6396158 .. 0.47738358</td><td>0.018393157 .. 0.003586253</td><td>0.016451726 .. 0.0029472103</td><td>0.57727945</td><td>0.013760319</td><td>8647475120353182787</td><td>131.7678</td><td>-0.36972302</td><td>131.39809</td><td>0.4892721 .. 0.6652868</td><td>2.4901019e-11 .. 3.617158e-06</td><td>1</td><td>3.318501</td><td>1.4801716</td><td>326.024887986787</td><td>-0.456124199590482</td><td>1.2427536</td><td>622.40295</td><td>278250.75</td><td>93.56297</td><td>0.0</td><td>5</td><td>1</td><td>326.024887986787 .. 326.027832742631</td><td>-0.456124199590482 .. -0.45362191444788</td><td>93.56297 .. 0.0</td><td>1.0 .. 1.0</td><td>0.9999672 .. 1.9356423e-07</td><td>0.98428184 .. 1.90528e-07</td><td>2.8441718e-07 .. 0.000853331</td><td>-8.208275</td><td>3.2498137e-05 .. 0.99914646</td><td>0.9843136 .. 1.2146312e-05</td><td>6.7295756</td><td>70.65884</td><td>0.5681976</td><td>0.005542384</td><td>19.70229</td><td>0.015549416</td><td>-23.62519149165052</td><td>-23.348094671827983</td><td>0.06482013342672191</td><td>0.9867810543122256</td><td>5.690207738815141</td><td>-0.007960869080877682</td><td>942.5695376542297</td><td>-1.5201891922717266</td><td>-1.3266159190370717</td><td>-1.9367612376679069</td><td>0.11787894840803077</td><td>0.029634036974404584</td><td>-1.1562423356277811</td><td>-1.9367612376679069</td><td>0.10475733151392697</td><td>0.029634036974404584</td><td>6</td><td>6</td></tr>\n",
       "<tr><td>13</td><td>319.631647754818</td><td>0.789146097113358</td><td>21.055416 .. 18.07319</td><td>0.025871878 .. 0.013015809</td><td>18.48084</td><td>0.006838838</td><td>0.4467427</td><td>0.012067068</td><td>0.44381222</td><td>-1.0</td><td>0.45943028</td><td>0.46086168</td><td>64.60903</td><td>4.31356</td><td>0.9163442</td><td>1.0146104</td><td>0.013368984</td><td>1.6830065 .. 0.41421378</td><td>0.0045688595 .. 0.0015487054</td><td>0.0041027935 .. 0.0012327499</td><td>0.4461131</td><td>0.0060125515</td><td>8647475121961042897</td><td>124.17886</td><td>-10.222708</td><td>113.956154</td><td>0.41269675 .. 0.47952947</td><td>3.0073576e-05 .. 5.0125245e-06</td><td>1</td><td>1.9232849</td><td>1.3745164</td><td>319.626227003658</td><td>0.851796727493464</td><td>1.3903728</td><td>991.57336</td><td>21967.164</td><td>64.32259</td><td>2.5404923</td><td>5</td><td>3</td><td>319.631647754818 .. 319.616280681385</td><td>0.789146097113358 .. 0.860043511506099</td><td>64.60903 .. 45.341995</td><td>1.0 .. 1.0</td><td>0.9663423 .. 8.637991e-05</td><td>0.7531096 .. 6.731935e-05</td><td>6.141068e-05 .. 0.027690314</td><td>-3.0748718</td><td>0.03359632 .. 0.97222334</td><td>0.7733964 .. 0.00030498928</td><td>3.7812018</td><td>45.093933</td><td>0.44493535</td><td>0.0032884153</td><td>19.263798</td><td>0.008253092</td><td>-22.942304634492306</td><td>-22.743084257631345</td><td>0.035329931234441274</td><td>0.9163442234146307</td><td>5.578624646896316</td><td>0.013773197673891017</td><td>842.8811203308477</td><td>-0.8613240024024442</td><td>-0.41646472514099353</td><td>-0.9547599415944763</td><td>0.024974528824542583</td><td>0.019867062450822127</td><td>-0.46152696802665655</td><td>-0.9547599415944763</td><td>0.019897297389029223</td><td>0.019867062450822127</td><td>7</td><td>7</td></tr>\n",
       "<tr><td>15</td><td>29.3166140807316</td><td>-0.121717133086027</td><td>20.225134 .. 17.486387</td><td>0.0101187 .. 0.0076560546</td><td>17.898483</td><td>0.0037847084</td><td>0.38533115</td><td>0.024707405</td><td>0.38782883</td><td>0.38782883</td><td>0.38533115</td><td>0.39064938</td><td>71.67208</td><td>3.9681547</td><td>0.9355565</td><td>1.0553719</td><td>0.051030185</td><td>1.6384488 .. 0.3910691</td><td>0.0009803331 .. 0.00056836574</td><td>0.00085333764 .. 0.00047621003</td><td>0.39341915</td><td>0.008919598</td><td>8647475120917775043</td><td>117.96768</td><td>-0.19864252</td><td>117.76904</td><td>0.34479767 .. 0.44204062</td><td>7.3480594e-05 .. 5.514844e-06</td><td>1</td><td>0.354011</td><td>1.4033347</td><td>29.3166140807316</td><td>-0.121717133086027</td><td>1.252847</td><td>353.9154</td><td>-113497.016</td><td>71.67208</td><td>0.0</td><td>5</td><td>1</td><td>29.3166140807316 .. 29.3040622845354</td><td>-0.121717133086027 .. -0.133140999600863</td><td>71.67208 .. 0.0</td><td>1.0 .. 1.0</td><td>0.9932936 .. 2.0241006e-07</td><td>0.89289695 .. 1.8195156e-07</td><td>3.710242e-05 .. 0.04224417</td><td>-4.5454135</td><td>0.006669314 .. 0.9577556</td><td>0.8983124 .. 1.8001683e-06</td><td>4.634929</td><td>47.027714</td><td>0.3909944</td><td>0.0036169337</td><td>18.518435</td><td>0.0042103</td><td>-23.07468137319195</td><td>-22.90324706885846</td><td>0.058093867263933674</td><td>0.9355564620674819</td><td>0.5116714412452972</td><td>-0.0021243647284392977</td><td>764.6121118059395</td><td>-1.2328205628278763</td><td>-1.0894339298656535</td><td>-1.3932562741939816</td><td>0.05721929297268309</td><td>0.027582795151057597</td><td>-1.0115688174818493</td><td>-1.3932562741939816</td><td>0.05954322629881033</td><td>0.027582795151057597</td><td>8</td><td>8</td></tr>\n",
       "<tr><td>16</td><td>22.3631873776045</td><td>0.0900402082117817</td><td>20.24929 .. 17.493088</td><td>0.012962762 .. 0.010706511</td><td>17.877928</td><td>0.004366911</td><td>0.40087438</td><td>0.016769014</td><td>0.39252517</td><td>0.28695303</td><td>0.28399384</td><td>0.38800368</td><td>67.24814</td><td>3.9850395</td><td>0.9237109</td><td>1.0523818</td><td>0.05027798</td><td>1.5589241 .. 0.36287296</td><td>0.0011826974 .. 0.0010599587</td><td>0.0010163278 .. 0.00092684047</td><td>0.3915429</td><td>0.009388147</td><td>8647474691954901344</td><td>117.56325</td><td>-4.0919814</td><td>113.47127</td><td>0.3417724 .. 0.44131342</td><td>0.00043729463 .. 6.3619227e-06</td><td>1</td><td>1.4402802</td><td>1.3855664</td><td>22.3564266224839</td><td>0.0895234552849128</td><td>1.2380462</td><td>3.0509949</td><td>62240.297</td><td>68.368546</td><td>2.5348163</td><td>5</td><td>3</td><td>22.3631873776045 .. 22.3697413607231</td><td>0.0900402082117817 .. 0.148394153816339</td><td>67.24814 .. 31.658285</td><td>1.0 .. 1.0</td><td>0.7596586 .. 1.2453942e-06</td><td>0.70362884 .. 1.1535383e-06</td><td>0.0015345721 .. 0.4034054</td><td>-7.5976696</td><td>0.23880686 .. 0.5965934</td><td>0.90512234 .. 1.5639574e-05</td><td>4.6655145</td><td>42.288544</td><td>0.38906625</td><td>0.0044276724</td><td>18.530867</td><td>0.004879502</td><td>-23.211773382072355</td><td>-23.037016430834385</td><td>0.06143065405450049</td><td>0.9237108678852143</td><td>0.3903112509796349</td><td>0.0015714980924768265</td><td>761.4107696409984</td><td>-0.8089618037012956</td><td>-0.5192266673240538</td><td>-1.727945972466901</td><td>0.19989821577253014</td><td>0.08395721502018863</td><td>-0.6689317087357644</td><td>-1.727945972466901</td><td>0.1679145549186205</td><td>0.08395721502018863</td><td>9</td><td>9</td></tr>\n",
       "<tr><td>...</td><td>...</td><td>...</td><td>...</td><td>...</td><td>...</td><td>...</td><td>...</td><td>...</td><td>...</td><td>...</td><td>...</td><td>...</td><td>...</td><td>...</td><td>...</td><td>...</td><td>...</td><td>...</td><td>...</td><td>...</td><td>...</td><td>...</td><td>...</td><td>...</td><td>...</td><td>...</td><td>...</td><td>...</td><td>...</td><td>...</td><td>...</td><td>...</td><td>...</td><td>...</td><td>...</td><td>...</td><td>...</td><td>...</td><td>...</td><td>...</td><td>...</td><td>...</td><td>...</td><td>...</td><td>...</td><td>...</td><td>...</td><td>...</td><td>...</td><td>...</td><td>...</td><td>...</td><td>...</td><td>...</td><td>...</td><td>...</td><td>...</td><td>...</td><td>...</td><td>...</td><td>...</td><td>...</td><td>...</td><td>...</td><td>...</td><td>...</td><td>...</td><td>...</td><td>...</td><td>...</td><td>...</td><td>...</td><td>...</td><td>...</td></tr>\n",
       "<tr><td>6535</td><td>35.5234547301296</td><td>-0.672574900237635</td><td>23.106762 .. 19.599651</td><td>0.08406576 .. 0.02703504</td><td>19.974173</td><td>0.013010949</td><td>0.68417466</td><td>0.03485316</td><td>-1.0</td><td>-1.0</td><td>0.68417466</td><td>0.7006751</td><td>20.430624</td><td>5.3776627</td><td>0.7278742</td><td>1.2401791</td><td>0.19677693</td><td>1.5697248 .. 0.5926038</td><td>0.07465129 .. 0.007887293</td><td>0.066448554 .. 0.006251944</td><td>0.6933147</td><td>0.026091654</td><td>8647474690886926358</td><td>3.5812757</td><td>-0.8628554</td><td>2.7184203</td><td>0.52100277 .. 0.8656266</td><td>2.4311217e-10 .. 2.5800993e-05</td><td>1</td><td>1.7265543</td><td>1.0918113</td><td>35.5234547301296</td><td>-0.672574900237635</td><td>1.1355708</td><td>212.04414</td><td>56748.508</td><td>20.430624</td><td>0.0</td><td>5</td><td>1</td><td>35.5234547301296 .. 35.5391752618126</td><td>-0.672574900237635 .. -0.679227953179862</td><td>20.430624 .. 0.0</td><td>1.0 .. 1.0</td><td>0.98769766 .. 0.00033131958</td><td>0.8290999 .. 0.00027811853</td><td>0.0033223534 .. 0.9315511</td><td>-3.493478</td><td>0.0089799855 .. 0.06811754</td><td>0.8377512 .. 0.0017290404</td><td>3.6731532</td><td>12.458089</td><td>0.7074757</td><td>0.02251395</td><td>21.404684</td><td>0.025778899</td><td>-22.746747145383804</td><td>-22.254755900385693</td><td>0.10483665753768495</td><td>0.7278742008254578</td><td>0.6200012467239152</td><td>-0.011738646475419123</td><td>1032.158981626965</td><td>-1.3857416536356355</td><td>-0.10669412275720917</td><td>-0.09157767604521948</td><td>0.5386031753049407</td><td>0.52900382846275</td><td>-0.15833367954706137</td><td>-0.09157767604521948</td><td>0.34033508249952427</td><td>0.52900382846275</td><td>1194</td><td>1194</td></tr>\n",
       "<tr><td>6723</td><td>330.433002850522</td><td>-0.442481796100442</td><td>23.268831 .. 19.038294</td><td>0.18086408 .. 0.031611208</td><td>19.904316</td><td>0.016573362</td><td>0.76256895</td><td>0.03682398</td><td>-1.0</td><td>-1.0</td><td>0.682825</td><td>0.7022136</td><td>18.020338</td><td>3.8493557</td><td>0.7098271</td><td>1.2228491</td><td>0.010659752</td><td>1.5021248 .. 0.63848174</td><td>0.2047634 .. 0.022404261</td><td>0.17874683 .. 0.017538678</td><td>0.74936557</td><td>0.027393822</td><td>8647475120355149314</td><td>3.4470072</td><td>-3.0191493</td><td>0.42785788</td><td>0.5882816 .. 0.91044956</td><td>0.0007526851 .. 0.68243307</td><td>0</td><td>6.2867117</td><td>1.0647407</td><td>330.435793375409</td><td>-0.430531622825781</td><td>1.1922073</td><td>85.42786</td><td>0.0</td><td>17.796602</td><td>0.3511282</td><td>5</td><td>2</td><td>330.433002850522 .. 330.45873373295</td><td>-0.442481796100442 .. -0.44447558637277</td><td>18.020338 .. 12.101408</td><td>1.0 .. 1.0</td><td>0.7074364 .. 2.311827e-05</td><td>0.20332909 .. 6.644579e-06</td><td>0.28279924 .. 0.9746456</td><td>-0.530687</td><td>0.009764366 .. 0.02533128</td><td>0.22199623 .. 9.324549e-06</td><td>5.4763002</td><td>13.139027</td><td>0.76824063</td><td>0.025259947</td><td>20.978523</td><td>0.034012415</td><td>-23.396489100032962</td><td>-23.853405081700306</td><td>0.11992355926587589</td><td>0.7098271177237856</td><td>5.767143856993417</td><td>-0.0077227642220909195</td><td>1033.0622554923552</td><td>-1.3963085713438204</td><td>-0.27228405266262584</td><td>-2.356187510641742</td><td>0.5303623326334487</td><td>0.22183945499467048</td><td>-1.913716317056617</td><td>-2.356187510641742</td><td>0.09834380924634256</td><td>0.22183945499467048</td><td>1195</td><td>1195</td></tr>\n",
       "<tr><td>7279</td><td>337.410197791435</td><td>-0.542280792748466</td><td>22.83555 .. 19.33833</td><td>0.07813224 .. 0.023380123</td><td>20.017092</td><td>0.011436766</td><td>0.65933895</td><td>0.035114687</td><td>-1.0</td><td>-1.0</td><td>0.65933895</td><td>0.61900747</td><td>15.3812275</td><td>3.6558545</td><td>0.68769866</td><td>1.2283565</td><td>0.18470588</td><td>1.7084802 .. 0.49018836</td><td>0.033145268 .. 0.0039136135</td><td>0.030548422 .. 0.0032111304</td><td>0.61751354</td><td>0.02221247</td><td>8647475120358163301</td><td>3.1065447</td><td>-1.2191508</td><td>1.887394</td><td>0.48998845 .. 0.7450386</td><td>9.879427e-13 .. 1.8400393e-06</td><td>1</td><td>1.7785727</td><td>1.031548</td><td>337.410197791435</td><td>-0.542280792748466</td><td>1.0529482</td><td>44.239426</td><td>-16475.373</td><td>15.377872</td><td>0.065597095</td><td>5</td><td>2</td><td>337.410197791435 .. 337.401521474343</td><td>-0.542280792748466 .. -0.551486431125988</td><td>15.3812275 .. 12.223448</td><td>1.0 .. 1.0</td><td>0.9637428 .. 0.00010388761</td><td>0.5917649 .. 6.3789885e-05</td><td>0.011126071 .. 0.44141784</td><td>-1.2254578</td><td>0.025131136 .. 0.5584783</td><td>0.6052393 .. 0.00016524337</td><td>2.2308378</td><td>10.183112</td><td>0.61496466</td><td>0.016808655</td><td>21.074066</td><td>0.021784164</td><td>-22.604393238114575</td><td>-22.484358182856358</td><td>0.0983549101857197</td><td>0.6876986932602895</td><td>5.88891888126584</td><td>-0.009464585303785722</td><td>979.1537869590315</td><td>-1.238438761386769</td><td>-0.9454095444732276</td><td>-1.3972255611121112</td><td>0.17810535153398813</td><td>0.721900304427738</td><td>-0.7497668855089524</td><td>-1.3972255611121112</td><td>0.32073933454474157</td><td>0.721900304427738</td><td>1196</td><td>1196</td></tr>\n",
       "<tr><td>7464</td><td>10.1083300905007</td><td>0.619926887907797</td><td>23.604506 .. 20.006647</td><td>0.14730902 .. 0.043198243</td><td>20.78409</td><td>0.023675688</td><td>0.67046857</td><td>0.04626159</td><td>-1.0</td><td>-1.0</td><td>0.67046857</td><td>0.67962044</td><td>15.610052</td><td>3.15432</td><td>0.6897328</td><td>1.122307</td><td>0.04107981</td><td>1.4941291 .. 0.6820924</td><td>0.11933351 .. 0.01606927</td><td>0.09977429 .. 0.011797077</td><td>0.72178817</td><td>0.03813073</td><td>8647474692486399019</td><td>3.0027852</td><td>-3.2482</td><td>-0.24541473</td><td>0.56561023 .. 0.8779661</td><td>0.012735984 .. 0.02616303</td><td>1</td><td>3.5407777</td><td>1.0345992</td><td>10.1083300905007</td><td>0.619926887907797</td><td>1.0709965</td><td>164.75372</td><td>26848.756</td><td>15.610052</td><td>0.0</td><td>5</td><td>1</td><td>10.1083300905007 .. 10.1093710588178</td><td>0.619926887907797 .. 0.598977648520112</td><td>15.610052 .. 0.0</td><td>1.0 .. 1.0</td><td>0.9906466 .. 0.0004670574</td><td>0.45663333 .. 0.00021528764</td><td>0.0038059568 .. 0.9975659</td><td>-0.90805125</td><td>0.0055474425 .. 0.0019670364</td><td>0.45861056 .. 0.00039922007</td><td>2.0704777</td><td>9.714642</td><td>0.7391214</td><td>0.03626318</td><td>21.75937</td><td>0.040952254</td><td>-21.919377006129583</td><td>-21.956593308439487</td><td>0.15160960092425765</td><td>0.689732786278963</td><td>0.17642364195765362</td><td>0.01081976531563288</td><td>1019.4585074942286</td><td>-1.2688529848014074</td><td>-0.01060952336192745</td><td>-0.8741326135054176</td><td>0.5261594712722872</td><td>0.3248973625914285</td><td>-0.03149260782400504</td><td>-0.8741326135054176</td><td>0.2972991722694714</td><td>0.3248973625914285</td><td>1197</td><td>1197</td></tr>\n",
       "<tr><td>8908</td><td>354.091857252963</td><td>-0.579373908390867</td><td>23.50997 .. 19.684217</td><td>0.14522414 .. 0.035884365</td><td>20.372381</td><td>0.018715875</td><td>0.7432786</td><td>0.043772038</td><td>-1.0</td><td>-1.0</td><td>0.7432786</td><td>0.7440437</td><td>21.773062</td><td>6.115495</td><td>0.7371976</td><td>1.4293376</td><td>0.18031408</td><td>1.5316126 .. 0.63150054</td><td>0.06382397 .. 0.006396637</td><td>0.05697366 .. 0.005096485</td><td>0.740637</td><td>0.021561954</td><td>8647475120365502974</td><td>2.3567963</td><td>-4.0585938</td><td>-1.7017975</td><td>0.568225 .. 0.913049</td><td>9.067119e-10 .. 0.0135492645</td><td>0</td><td>2.1825686</td><td>1.1057963</td><td>354.091857252963</td><td>-0.579373908390867</td><td>0.70885164</td><td>126.61629</td><td>-7932.587</td><td>18.43235</td><td>3.7058024</td><td>5</td><td>3</td><td>354.091857252963 .. 354.085070869333</td><td>-0.579373908390867 .. -0.591328200623025</td><td>21.773062 .. 11.643759</td><td>1.0 .. 1.0</td><td>0.47550395 .. 0.0014401502</td><td>0.15257628 .. 0.000462105</td><td>0.29900953 .. 0.94500494</td><td>-0.48729762</td><td>0.22548655 .. 0.053554866</td><td>0.18345033 .. 0.00067997683</td><td>3.3796215</td><td>15.9481125</td><td>0.7590661</td><td>0.018575104</td><td>21.562887</td><td>0.035333198</td><td>-22.70985122600823</td><td>-22.74236840166949</td><td>0.09568400673354914</td><td>0.7371975799530527</td><td>6.180068763565968</td><td>-0.010111982301568631</td><td>1056.383857524481</td><td>-0.9169696937212998</td><td>-0.5721132657043355</td><td>0.0</td><td>0.5431931639115113</td><td>0.0</td><td>-1.3463338882834162</td><td>0.0</td><td>1.2782772368643125</td><td>0.0</td><td>1198</td><td>1198</td></tr>\n",
       "<tr><td>9322</td><td>32.9058500408352</td><td>-0.880182524761149</td><td>23.066301 .. 19.333874</td><td>0.17827249 .. 0.028313074</td><td>19.72696</td><td>0.01523438</td><td>0.6860364</td><td>0.047394417</td><td>-1.0</td><td>-1.0</td><td>0.58716494</td><td>0.628992</td><td>22.29173</td><td>3.2940872</td><td>0.7406768</td><td>1.1775982</td><td>0.03352892</td><td>1.4192686 .. 0.6372329</td><td>0.21061455 .. 0.011438263</td><td>0.1978897 .. 0.008798681</td><td>0.73428774</td><td>0.020982353</td><td>8647475119845606615</td><td>2.1960244</td><td>-8.65847</td><td>-6.4624457</td><td>0.5585225 .. 0.91005296</td><td>2.532056e-09 .. 0.00058874575</td><td>0</td><td>9.065901</td><td>1.1110152</td><td>32.9247884770112</td><td>-0.894830719261328</td><td>1.7233402</td><td>90.00435</td><td>610.199</td><td>22.29173</td><td>0.0</td><td>5</td><td>1</td><td>32.9058500408352 .. 32.9323158701587</td><td>-0.880182524761149 .. -0.882933867519579</td><td>22.29173 .. 0.0</td><td>1.0 .. 1.0</td><td>0.9951207 .. 1.3291295e-05</td><td>0.31407845 .. 4.1949775e-06</td><td>0.0045941807 .. 0.980818</td><td>-0.4812237</td><td>0.0002851151 .. 0.019168757</td><td>0.31456286 .. 6.129551e-06</td><td>5.898993</td><td>17.72894</td><td>0.7523786</td><td>0.017731056</td><td>21.10434</td><td>0.027658762</td><td>-23.091639777294215</td><td>-22.836170565486583</td><td>0.10125826760754052</td><td>0.7406768284520103</td><td>0.5743154263800847</td><td>-0.015362083075598566</td><td>986.1947055994891</td><td>-1.2329986925775605</td><td>-0.5698283419502276</td><td>-1.7376540300523418</td><td>0.23345340068910256</td><td>0.09949925445221787</td><td>-0.9987670208169535</td><td>-1.7376540300523418</td><td>0.06156861534757629</td><td>0.09949925445221787</td><td>1199</td><td>1199</td></tr>\n",
       "<tr><td>11221</td><td>339.102928052011</td><td>0.0439033590982028</td><td>23.767416 .. 20.16664</td><td>0.1545281 .. 0.055750936</td><td>20.977575</td><td>0.03347449</td><td>0.7727016</td><td>0.04751719</td><td>-1.0</td><td>-1.0</td><td>0.61139387</td><td>0.66444755</td><td>22.245966</td><td>4.9724145</td><td>0.7403725</td><td>1.2970349</td><td>0.093042746</td><td>1.4123147 .. 0.71742666</td><td>0.15028635 .. 0.025895333</td><td>0.12761803 .. 0.021652251</td><td>0.7411468</td><td>0.03054869</td><td>8647474691935962348</td><td>1.599564</td><td>-11.454324</td><td>-9.85476</td><td>0.5820924 .. 0.9002012</td><td>0.012053995 .. 0.22396266</td><td>0</td><td>2.537861</td><td>1.1105587</td><td>339.103614766484</td><td>0.0618001857828104</td><td>1.2430636</td><td>141.87126</td><td>-12814.179</td><td>22.245966</td><td>0.0</td><td>5</td><td>1</td><td>339.102928052011 .. 339.091104023907</td><td>0.0439033590982028 .. 0.0472390130717076</td><td>22.245966 .. 0.0</td><td>0.99954605 .. 0.99954605</td><td>0.9834981 .. 0.0010311673</td><td>0.027777951 .. 2.9124325e-05</td><td>0.011539644 .. 0.9519047</td><td>0.19237384</td><td>0.0049622604 .. 0.047064133</td><td>0.027790904 .. 2.9969924e-05</td><td>1.9409119</td><td>12.399182</td><td>0.7596023</td><td>0.028527193</td><td>22.03938</td><td>0.045762185</td><td>-22.151589040721987</td><td>-22.19468883740031</td><td>0.12555406458032212</td><td>0.7403724564959391</td><td>5.918462597661033</td><td>0.0007662581689490474</td><td>1009.9036436051672</td><td>-0.8965207236355325</td><td>-0.9306341432653163</td><td>-1.4295197991757747</td><td>0.24188405415613082</td><td>0.15799148753910008</td><td>-0.7947673676274035</td><td>-1.4295197991757747</td><td>0.7326167156765306</td><td>0.15799148753910008</td><td>1200</td><td>1200</td></tr>\n",
       "<tr><td>15606</td><td>332.91203969699</td><td>-0.575758282800237</td><td>23.47148 .. 19.4686</td><td>0.12424135 .. 0.026244324</td><td>19.955757</td><td>0.013908696</td><td>0.76930976</td><td>0.03147521</td><td>-1.0</td><td>-1.0</td><td>0.7239936</td><td>0.7285004</td><td>19.118696</td><td>5.2568703</td><td>0.7182765</td><td>1.4214888</td><td>0.17037672</td><td>1.5494279 .. 0.6085912</td><td>0.08938502 .. 0.007512897</td><td>0.079487234 .. 0.0059525725</td><td>0.7419423</td><td>0.025921496</td><td>8647475120356197650</td><td>0.6120187</td><td>-2.029293</td><td>-1.4172744</td><td>0.5782516 .. 0.9056331</td><td>7.65e-08 .. 0.41962522</td><td>0</td><td>1.3822219</td><td>1.0774148</td><td>332.899703100377</td><td>-0.572050294539212</td><td>0.8995312</td><td>85.42786</td><td>-1220.398</td><td>15.392836</td><td>4.117988</td><td>5</td><td>2</td><td>332.91203969699 .. 332.891501104573</td><td>-0.575758282800237 .. -0.554590547319994</td><td>19.118696 .. 7.418131</td><td>1.0 .. 1.0</td><td>0.5456722 .. 3.3266429e-06</td><td>0.36734092 .. 2.239462e-06</td><td>0.3373049 .. 0.9816637</td><td>-2.3025718</td><td>0.117022924 .. 0.018332971</td><td>0.5291944 .. 6.8524364e-06</td><td>4.9994383</td><td>14.995358</td><td>0.76043904</td><td>0.023520574</td><td>21.506569</td><td>0.03006745</td><td>-23.25041989355593</td><td>-22.987508512424256</td><td>0.10493504509996393</td><td>0.718276494607296</td><td>5.810411212242541</td><td>-0.010048877730492773</td><td>1047.9913190072004</td><td>-1.1010766180239207</td><td>-1.7471688640545548</td><td>-1.707599462846115</td><td>0.760501791095903</td><td>1.736058582785084</td><td>-1.7311813194196257</td><td>-1.707599462846115</td><td>0.5917499400113607</td><td>1.736058582785084</td><td>1201</td><td>1201</td></tr>\n",
       "<tr><td>15817</td><td>17.0451856401537</td><td>0.0212091554256027</td><td>24.008707 .. 20.486462</td><td>0.16492516 .. 0.06526014</td><td>21.253387</td><td>0.026035458</td><td>0.7436648</td><td>0.05389401</td><td>-1.0</td><td>-1.0</td><td>0.7243186</td><td>0.7432464</td><td>19.088186</td><td>5.9623294</td><td>0.7180471</td><td>1.263822</td><td>0.039098173</td><td>1.3894593 .. 0.6735385</td><td>0.16029468 .. 0.032457203</td><td>0.13400385 .. 0.027257558</td><td>0.7495745</td><td>0.040344942</td><td>8647474691952542832</td><td>0.5680211</td><td>-5.3596616</td><td>-4.7916403</td><td>0.59563816 .. 0.90351087</td><td>0.012804351 .. 1.9415056</td><td>0</td><td>1.1551557</td><td>1.0770706</td><td>17.0402012450392</td><td>0.00408221627952041</td><td>0.7371898</td><td>135.76927</td><td>-14034.577</td><td>14.864487</td><td>5.6848555</td><td>5</td><td>3</td><td>17.0451856401537 .. 17.0452402910323</td><td>0.0212091554256027 .. -0.00716838798329885</td><td>19.088186 .. 5.1603947</td><td>1.0 .. 1.0</td><td>0.6099119 .. 4.9663275e-05</td><td>0.023974352 .. 1.9521588e-06</td><td>0.19354187 .. 0.6652413</td><td>0.564891</td><td>0.19654621 .. 0.33470905</td><td>0.024347689 .. 2.0320297e-06</td><td>1.5825089</td><td>8.410663</td><td>0.76846015</td><td>0.03892979</td><td>22.326271</td><td>0.050601505</td><td>-21.73186640799297</td><td>-21.680319380509626</td><td>0.15812247183541414</td><td>0.7180471005015827</td><td>0.29749461103433944</td><td>0.0003701695937439864</td><td>1055.960986451245</td><td>-1.434336920020939</td><td>-1.6567156202197966</td><td>-1.063718743724094</td><td>0.21374504902594216</td><td>1.1865377855102144</td><td>-1.4758339580725426</td><td>-1.063718743724094</td><td>0.3336659306977295</td><td>1.1865377855102144</td><td>1202</td><td>1202</td></tr>\n",
       "<tr><td>17558</td><td>24.5863451446797</td><td>0.525232947994622</td><td>24.129515 .. 20.121254</td><td>0.2435251 .. 0.046137497</td><td>20.842693</td><td>0.031171625</td><td>0.82968664</td><td>0.028422205</td><td>-1.0</td><td>-1.0</td><td>0.71512914</td><td>0.70656466</td><td>21.956121</td><td>4.3889894</td><td>0.73843306</td><td>1.2264489</td><td>0.02045391</td><td>1.4124203 .. 0.70227784</td><td>0.16772586 .. 0.0214253</td><td>0.14186414 .. 0.015404628</td><td>0.74792576</td><td>0.024919132</td><td>8647474692492757564</td><td>0.21784745</td><td>-12.948927</td><td>-12.731079</td><td>0.58361006 .. 0.91224146</td><td>4.8208378e-05 .. 0.30319268</td><td>0</td><td>3.3504066</td><td>1.1076496</td><td>24.5761150692271</td><td>0.543001922507075</td><td>1.3997644</td><td>129.66728</td><td>7932.587</td><td>21.825813</td><td>0.24450754</td><td>5</td><td>2</td><td>24.5863451446797 .. 24.59002904946</td><td>0.525232947994622 .. 0.524678677978114</td><td>21.956121 .. 19.80517</td><td>0.99902046 .. 0.99902046</td><td>0.68549716 .. 7.386508e-05</td><td>0.15364778 .. 1.6556167e-05</td><td>0.2757927 .. 0.60288864</td><td>0.051845998</td><td>0.038710147 .. 0.39703748</td><td>0.16530026 .. 2.133868e-05</td><td>2.288128</td><td>12.183589</td><td>0.7667276</td><td>0.022525987</td><td>22.158875</td><td>0.05686124</td><td>-22.626924259225497</td><td>-22.72250009185109</td><td>0.12952280679568337</td><td>0.7384330478208909</td><td>0.4291126738063824</td><td>0.009167044282462301</td><td>1035.598876151094</td><td>-1.425025118929365</td><td>-0.9783873167605363</td><td>-2.483316060943996</td><td>0.48350298011809945</td><td>0.2703601761189288</td><td>-1.1777968837201076</td><td>-2.483316060943996</td><td>0.3073208679287447</td><td>0.2703601761189288</td><td>1203</td><td>1203</td></tr>\n",
       "</table>"
      ],
      "text/plain": [
       "<Table length=1204>\n",
       "MEM_MATCH_ID        RA               DEC         ...  loc  INDEX\n",
       "   int32         float64           float64       ... int64 int64\n",
       "------------ ---------------- ------------------ ... ----- -----\n",
       "           1 16.2307053673809 0.0600784414074361 ...     0     0\n",
       "           2 319.745339515063   0.54863787828688 ...     1     1\n",
       "           5 21.8067611456837  0.368384593213716 ...     2     2\n",
       "           7 34.5703396165445 -0.694962773650676 ...     3     3\n",
       "           9 41.9594751330461 -0.478172727302248 ...     4     4\n",
       "          11  40.314365764827 -0.311413898942587 ...     5     5\n",
       "          12 326.024887986787 -0.456124199590482 ...     6     6\n",
       "          13 319.631647754818  0.789146097113358 ...     7     7\n",
       "          15 29.3166140807316 -0.121717133086027 ...     8     8\n",
       "          16 22.3631873776045 0.0900402082117817 ...     9     9\n",
       "         ...              ...                ... ...   ...   ...\n",
       "        6535 35.5234547301296 -0.672574900237635 ...  1194  1194\n",
       "        6723 330.433002850522 -0.442481796100442 ...  1195  1195\n",
       "        7279 337.410197791435 -0.542280792748466 ...  1196  1196\n",
       "        7464 10.1083300905007  0.619926887907797 ...  1197  1197\n",
       "        8908 354.091857252963 -0.579373908390867 ...  1198  1198\n",
       "        9322 32.9058500408352 -0.880182524761149 ...  1199  1199\n",
       "       11221 339.102928052011 0.0439033590982028 ...  1200  1200\n",
       "       15606  332.91203969699 -0.575758282800237 ...  1201  1201\n",
       "       15817 17.0451856401537 0.0212091554256027 ...  1202  1202\n",
       "       17558 24.5863451446797  0.525232947994622 ...  1203  1203"
      ]
     },
     "execution_count": 10,
     "metadata": {},
     "output_type": "execute_result"
    }
   ],
   "source": [
    "clusters"
   ]
  },
  {
   "cell_type": "code",
   "execution_count": 12,
   "metadata": {},
   "outputs": [],
   "source": [
    "conditions =          (clusters['LAMBDA_CHISQ']<65)&\\\n",
    "                      (clusters['LAMBDA_CHISQ']>15)\n",
    "\n",
    "clusters_lowz = clusters[(clusters['Z']>0.2)&\n",
    "                         (clusters['Z']<0.4)&\n",
    "                          conditions]\n",
    "\n",
    "cuts = 3\n",
    "clusters_lowz.sort('OFF')\n",
    "partitions = [x*100/cuts for x in range(1,cuts) ]\n",
    "\n",
    "split = list(np.percentile(np.array(range(len(clusters_lowz))),partitions).astype(int))\n",
    "lowz=np.split(np.array(clusters_lowz),split)\n",
    "\n",
    "stick = []\n",
    "for stake in lowz:\n",
    "    stick.append(Table(stake))"
   ]
  },
  {
   "cell_type": "code",
   "execution_count": 13,
   "metadata": {},
   "outputs": [
    {
     "name": "stdout",
     "output_type": "stream",
     "text": [
      "70\n",
      "Total galaxies available per bin:\n",
      "[803, 3496, 14827, 61587, 250219, 913140]\n",
      "\n",
      "Stack of 70 clusters.\n",
      "Done in 91.61375403404236 seconds.\n",
      "71\n",
      "Total galaxies available per bin:\n",
      "[855, 3560, 15214, 60003, 236913, 900115]\n",
      "\n",
      "Stack of 71 clusters.\n",
      "Done in 88.88691210746765 seconds.\n",
      "72\n",
      "Total galaxies available per bin:\n",
      "[865, 3692, 15633, 60907, 248774, 994544]\n",
      "\n",
      "Stack of 72 clusters.\n",
      "Done in 97.25718855857849 seconds.\n"
     ]
    },
    {
     "ename": "FileNotFoundError",
     "evalue": "[Errno 2] No such file or directory: 'Results/CS82/CS82_stacking_results.pickle'",
     "output_type": "error",
     "traceback": [
      "\u001b[0;31m---------------------------------------------------------------------------\u001b[0m",
      "\u001b[0;31mFileNotFoundError\u001b[0m                         Traceback (most recent call last)",
      "\u001b[0;32m<ipython-input-13-4b8be7ebee6a>\u001b[0m in \u001b[0;36m<module>\u001b[0;34m\u001b[0m\n\u001b[1;32m     17\u001b[0m     \u001b[0mprint\u001b[0m\u001b[0;34m(\u001b[0m\u001b[0;34m\"Done in \"\u001b[0m \u001b[0;34m+\u001b[0m \u001b[0mstr\u001b[0m\u001b[0;34m(\u001b[0m\u001b[0mtime\u001b[0m\u001b[0;34m.\u001b[0m\u001b[0mtime\u001b[0m\u001b[0;34m(\u001b[0m\u001b[0;34m)\u001b[0m\u001b[0;34m-\u001b[0m\u001b[0mt\u001b[0m\u001b[0;34m)\u001b[0m \u001b[0;34m+\u001b[0m \u001b[0;34m\" seconds.\"\u001b[0m\u001b[0;34m)\u001b[0m\u001b[0;34m\u001b[0m\u001b[0;34m\u001b[0m\u001b[0m\n\u001b[1;32m     18\u001b[0m \u001b[0;34m\u001b[0m\u001b[0m\n\u001b[0;32m---> 19\u001b[0;31m \u001b[0mpickle_out2\u001b[0m \u001b[0;34m=\u001b[0m \u001b[0mopen\u001b[0m\u001b[0;34m(\u001b[0m\u001b[0;34m\"Results/CS82/CS82_stacking_results.pickle\"\u001b[0m\u001b[0;34m,\u001b[0m\u001b[0;34m\"wb\"\u001b[0m\u001b[0;34m)\u001b[0m\u001b[0;34m\u001b[0m\u001b[0;34m\u001b[0m\u001b[0m\n\u001b[0m\u001b[1;32m     20\u001b[0m \u001b[0mpickle\u001b[0m\u001b[0;34m.\u001b[0m\u001b[0mdump\u001b[0m\u001b[0;34m(\u001b[0m\u001b[0mstick_results\u001b[0m\u001b[0;34m,\u001b[0m \u001b[0mpickle_out2\u001b[0m\u001b[0;34m)\u001b[0m\u001b[0;34m\u001b[0m\u001b[0;34m\u001b[0m\u001b[0m\n\u001b[1;32m     21\u001b[0m \u001b[0mpickle_out\u001b[0m\u001b[0;34m.\u001b[0m\u001b[0mclose\u001b[0m\u001b[0;34m(\u001b[0m\u001b[0;34m)\u001b[0m\u001b[0;34m\u001b[0m\u001b[0;34m\u001b[0m\u001b[0m\n",
      "\u001b[0;31mFileNotFoundError\u001b[0m: [Errno 2] No such file or directory: 'Results/CS82/CS82_stacking_results.pickle'"
     ]
    }
   ],
   "source": [
    "Nboot=500\n",
    "stick_results = []\n",
    "for stake in stick:\n",
    "    t = time.time()\n",
    "    clusterbkgs = []\n",
    "    for index in stake['INDEX']:\n",
    "        Sigma_crit = np.array(results[index]['Critical Density'])\n",
    "        e_t = np.array(results[index]['Tangential Shear'])\n",
    "        e_x = np.array(results[index]['Critical Density'])\n",
    "        W = np.array(results[index]['Weights'])\n",
    "        M = np.array(results[index]['Mult. Bias'])\n",
    "        R = np.array(results[index]['Radial Distance'])\n",
    "        clusterbkgs.append(np.array([Sigma_crit, e_t, e_x, W, R,M]))\n",
    "    print(len(clusterbkgs))\n",
    "    sigmas, sigmas_cov, xigmas, xigmas_cov = xlensing.data.stack(clusterbkgs,bins_lims,Nboot)\n",
    "    stick_results.append( ( sigmas, sigmas_cov, xigmas, xigmas_cov) )\n",
    "    print(\"Done in \" + str(time.time()-t) + \" seconds.\")\n",
    "\n",
    "\n",
    "\n",
    "\n"
   ]
  },
  {
   "cell_type": "code",
   "execution_count": 14,
   "metadata": {},
   "outputs": [
    {
     "data": {
      "image/png": "[encoded data removed]",
      "text/plain": [
       "<Figure size 504x648 with 1 Axes>"
      ]
     },
     "metadata": {
      "needs_background": "light"
     },
     "output_type": "display_data"
    }
   ],
   "source": [
    "plt.figure(figsize=(7,9))\n",
    "for stickresult in stick_results:\n",
    "    plt.scatter(radii,np.array(stickresult[0]), label = 'New Code')\n",
    "    plt.errorbar(radii,np.array(stickresult[0]),yerr=np.sqrt(np.diag(stickresult[1])),fmt='.')\n",
    "plt.legend()\n",
    "plt.xscale('log')\n",
    "plt.yscale('log')\n",
    "plt.savefig('data.pdf')"
   ]
  },
  {
   "cell_type": "markdown",
   "metadata": {},
   "source": [
    "### Model"
   ]
  },
  {
   "cell_type": "code",
   "execution_count": 15,
   "metadata": {},
   "outputs": [],
   "source": [
    "def NFWsimple(theta,Z,radii):\n",
    "    M200, C200, PCC,  = theta\n",
    "    result = xlensing.model.NFW_shear(M200, C200, Z, PCC, 0.3, 1e10,radii)['Signal']\n",
    "    return result\n"
   ]
  },
  {
   "cell_type": "markdown",
   "metadata": {},
   "source": [
    "Priors:"
   ]
  },
  {
   "cell_type": "code",
   "execution_count": 16,
   "metadata": {},
   "outputs": [],
   "source": [
    "M200lo, M200hi = 1e11, 1e15\n",
    "C200lo, C200hi = 0, 20\n",
    "PCClo, PCChi = 0., 1\n",
    "priorM200 = xlensing.fitting.ln_flat_prior_maker(M200lo, M200hi,0)\n",
    "priorC200 = xlensing.fitting.ln_flat_prior_maker(C200lo, C200hi,1)\n",
    "priorPCC = xlensing.fitting.ln_gaussian_prior_maker(0.75, 0.07,2) ##Zhang et al. 2019\n",
    "prior = lambda theta : priorM200(theta) + priorC200(theta) + priorPCC(theta)"
   ]
  },
  {
   "cell_type": "markdown",
   "metadata": {},
   "source": [
    "### MCMC"
   ]
  },
  {
   "cell_type": "code",
   "execution_count": 17,
   "metadata": {},
   "outputs": [
    {
     "name": "stdout",
     "output_type": "stream",
     "text": [
      "Running MCMC...\n"
     ]
    },
    {
     "name": "stderr",
     "output_type": "stream",
     "text": [
      "/local/home/az264973/github/xlensing/xlensing/model.py:23: RuntimeWarning: invalid value encountered in log\n",
      "  NFW_delta_c = lambda conc: (cosmo.cluster_overdensity/3.)*((conc**3)/(np.log(1.+conc)-conc/(1.+conc)))\n",
      "/local/home/az264973/github/xlensing/xlensing/model.py:27: RuntimeWarning: invalid value encountered in double_scalars\n",
      "  result = ((3.*M)/(cosmo.rhocz(z)*4.*np.pi*dc))**(1./3.)\n",
      "/local/home/az264973/github/xlensing/xlensing/model.py:105: RuntimeWarning: invalid value encountered in double_scalars\n",
      "  radius = (3*Mvir/(12.56637*cosmo.rhoM(z)))**(1/3) #4*pi = 12.56637...\n",
      "/local/home/az264973/github/xlensing/xlensing/model.py:23: RuntimeWarning: invalid value encountered in log\n",
      "  NFW_delta_c = lambda conc: (cosmo.cluster_overdensity/3.)*((conc**3)/(np.log(1.+conc)-conc/(1.+conc)))\n",
      "/local/home/az264973/github/xlensing/xlensing/model.py:27: RuntimeWarning: invalid value encountered in double_scalars\n",
      "  result = ((3.*M)/(cosmo.rhocz(z)*4.*np.pi*dc))**(1./3.)\n",
      "/local/home/az264973/github/xlensing/xlensing/model.py:105: RuntimeWarning: invalid value encountered in double_scalars\n",
      "  radius = (3*Mvir/(12.56637*cosmo.rhoM(z)))**(1/3) #4*pi = 12.56637...\n",
      "/local/home/az264973/github/xlensing/xlensing/model.py:27: RuntimeWarning: invalid value encountered in double_scalars\n",
      "  result = ((3.*M)/(cosmo.rhocz(z)*4.*np.pi*dc))**(1./3.)\n",
      "/local/home/az264973/github/xlensing/xlensing/model.py:105: RuntimeWarning: invalid value encountered in double_scalars\n",
      "  radius = (3*Mvir/(12.56637*cosmo.rhoM(z)))**(1/3) #4*pi = 12.56637...\n",
      "/local/home/az264973/github/xlensing/xlensing/model.py:23: RuntimeWarning: invalid value encountered in log\n",
      "  NFW_delta_c = lambda conc: (cosmo.cluster_overdensity/3.)*((conc**3)/(np.log(1.+conc)-conc/(1.+conc)))\n",
      "/local/home/az264973/github/xlensing/xlensing/model.py:23: RuntimeWarning: invalid value encountered in log\n",
      "  NFW_delta_c = lambda conc: (cosmo.cluster_overdensity/3.)*((conc**3)/(np.log(1.+conc)-conc/(1.+conc)))\n",
      "/local/home/az264973/github/xlensing/xlensing/model.py:23: RuntimeWarning: invalid value encountered in log\n",
      "  NFW_delta_c = lambda conc: (cosmo.cluster_overdensity/3.)*((conc**3)/(np.log(1.+conc)-conc/(1.+conc)))\n",
      "/local/home/az264973/github/xlensing/xlensing/model.py:23: RuntimeWarning: invalid value encountered in log\n",
      "  NFW_delta_c = lambda conc: (cosmo.cluster_overdensity/3.)*((conc**3)/(np.log(1.+conc)-conc/(1.+conc)))\n",
      "/local/home/az264973/github/xlensing/xlensing/model.py:27: RuntimeWarning: invalid value encountered in double_scalars\n",
      "  result = ((3.*M)/(cosmo.rhocz(z)*4.*np.pi*dc))**(1./3.)\n",
      "/local/home/az264973/github/xlensing/xlensing/model.py:105: RuntimeWarning: invalid value encountered in double_scalars\n",
      "  radius = (3*Mvir/(12.56637*cosmo.rhoM(z)))**(1/3) #4*pi = 12.56637...\n",
      "/local/home/az264973/github/xlensing/xlensing/model.py:23: RuntimeWarning: invalid value encountered in log\n",
      "  NFW_delta_c = lambda conc: (cosmo.cluster_overdensity/3.)*((conc**3)/(np.log(1.+conc)-conc/(1.+conc)))\n",
      "/local/home/az264973/github/xlensing/xlensing/model.py:23: RuntimeWarning: invalid value encountered in log\n",
      "  NFW_delta_c = lambda conc: (cosmo.cluster_overdensity/3.)*((conc**3)/(np.log(1.+conc)-conc/(1.+conc)))\n",
      "/local/home/az264973/github/xlensing/xlensing/model.py:27: RuntimeWarning: invalid value encountered in double_scalars\n",
      "  result = ((3.*M)/(cosmo.rhocz(z)*4.*np.pi*dc))**(1./3.)\n",
      "/local/home/az264973/github/xlensing/xlensing/model.py:105: RuntimeWarning: invalid value encountered in double_scalars\n",
      "  radius = (3*Mvir/(12.56637*cosmo.rhoM(z)))**(1/3) #4*pi = 12.56637...\n",
      "/local/home/az264973/github/xlensing/xlensing/model.py:23: RuntimeWarning: invalid value encountered in log\n",
      "  NFW_delta_c = lambda conc: (cosmo.cluster_overdensity/3.)*((conc**3)/(np.log(1.+conc)-conc/(1.+conc)))\n",
      "/local/home/az264973/github/xlensing/xlensing/model.py:27: RuntimeWarning: invalid value encountered in double_scalars\n",
      "  result = ((3.*M)/(cosmo.rhocz(z)*4.*np.pi*dc))**(1./3.)\n",
      "/local/home/az264973/github/xlensing/xlensing/model.py:105: RuntimeWarning: invalid value encountered in double_scalars\n",
      "  radius = (3*Mvir/(12.56637*cosmo.rhoM(z)))**(1/3) #4*pi = 12.56637...\n",
      "/local/home/az264973/github/xlensing/xlensing/model.py:23: RuntimeWarning: invalid value encountered in log\n",
      "  NFW_delta_c = lambda conc: (cosmo.cluster_overdensity/3.)*((conc**3)/(np.log(1.+conc)-conc/(1.+conc)))\n",
      "/local/home/az264973/github/xlensing/xlensing/model.py:23: RuntimeWarning: invalid value encountered in log\n",
      "  NFW_delta_c = lambda conc: (cosmo.cluster_overdensity/3.)*((conc**3)/(np.log(1.+conc)-conc/(1.+conc)))\n",
      "/local/home/az264973/github/xlensing/xlensing/model.py:27: RuntimeWarning: invalid value encountered in double_scalars\n",
      "  result = ((3.*M)/(cosmo.rhocz(z)*4.*np.pi*dc))**(1./3.)\n",
      "/local/home/az264973/github/xlensing/xlensing/model.py:105: RuntimeWarning: invalid value encountered in double_scalars\n",
      "  radius = (3*Mvir/(12.56637*cosmo.rhoM(z)))**(1/3) #4*pi = 12.56637...\n",
      "/local/home/az264973/github/xlensing/xlensing/model.py:23: RuntimeWarning: invalid value encountered in log\n",
      "  NFW_delta_c = lambda conc: (cosmo.cluster_overdensity/3.)*((conc**3)/(np.log(1.+conc)-conc/(1.+conc)))\n",
      "/local/home/az264973/github/xlensing/xlensing/model.py:23: RuntimeWarning: invalid value encountered in log\n",
      "  NFW_delta_c = lambda conc: (cosmo.cluster_overdensity/3.)*((conc**3)/(np.log(1.+conc)-conc/(1.+conc)))\n",
      "/local/home/az264973/github/xlensing/xlensing/model.py:27: RuntimeWarning: invalid value encountered in double_scalars\n",
      "  result = ((3.*M)/(cosmo.rhocz(z)*4.*np.pi*dc))**(1./3.)\n",
      "/local/home/az264973/github/xlensing/xlensing/model.py:105: RuntimeWarning: invalid value encountered in double_scalars\n",
      "  radius = (3*Mvir/(12.56637*cosmo.rhoM(z)))**(1/3) #4*pi = 12.56637...\n",
      "/local/home/az264973/github/xlensing/xlensing/model.py:23: RuntimeWarning: invalid value encountered in log\n",
      "  NFW_delta_c = lambda conc: (cosmo.cluster_overdensity/3.)*((conc**3)/(np.log(1.+conc)-conc/(1.+conc)))\n",
      "/local/home/az264973/github/xlensing/xlensing/model.py:27: RuntimeWarning: invalid value encountered in double_scalars\n",
      "  result = ((3.*M)/(cosmo.rhocz(z)*4.*np.pi*dc))**(1./3.)\n",
      "/local/home/az264973/github/xlensing/xlensing/model.py:105: RuntimeWarning: invalid value encountered in double_scalars\n",
      "  radius = (3*Mvir/(12.56637*cosmo.rhoM(z)))**(1/3) #4*pi = 12.56637...\n",
      "/local/home/az264973/github/xlensing/xlensing/model.py:23: RuntimeWarning: invalid value encountered in log\n",
      "  NFW_delta_c = lambda conc: (cosmo.cluster_overdensity/3.)*((conc**3)/(np.log(1.+conc)-conc/(1.+conc)))\n",
      "/local/home/az264973/github/xlensing/xlensing/model.py:27: RuntimeWarning: invalid value encountered in double_scalars\n",
      "  result = ((3.*M)/(cosmo.rhocz(z)*4.*np.pi*dc))**(1./3.)\n",
      "/local/home/az264973/github/xlensing/xlensing/model.py:105: RuntimeWarning: invalid value encountered in double_scalars\n",
      "  radius = (3*Mvir/(12.56637*cosmo.rhoM(z)))**(1/3) #4*pi = 12.56637...\n",
      "/local/home/az264973/github/xlensing/xlensing/model.py:23: RuntimeWarning: invalid value encountered in log\n",
      "  NFW_delta_c = lambda conc: (cosmo.cluster_overdensity/3.)*((conc**3)/(np.log(1.+conc)-conc/(1.+conc)))\n",
      "/local/home/az264973/github/xlensing/xlensing/model.py:27: RuntimeWarning: invalid value encountered in double_scalars\n",
      "  result = ((3.*M)/(cosmo.rhocz(z)*4.*np.pi*dc))**(1./3.)\n",
      "/local/home/az264973/github/xlensing/xlensing/model.py:105: RuntimeWarning: invalid value encountered in double_scalars\n",
      "  radius = (3*Mvir/(12.56637*cosmo.rhoM(z)))**(1/3) #4*pi = 12.56637...\n",
      "/local/home/az264973/github/xlensing/xlensing/model.py:23: RuntimeWarning: invalid value encountered in log\n",
      "  NFW_delta_c = lambda conc: (cosmo.cluster_overdensity/3.)*((conc**3)/(np.log(1.+conc)-conc/(1.+conc)))\n",
      "/local/home/az264973/github/xlensing/xlensing/model.py:23: RuntimeWarning: invalid value encountered in log\n",
      "  NFW_delta_c = lambda conc: (cosmo.cluster_overdensity/3.)*((conc**3)/(np.log(1.+conc)-conc/(1.+conc)))\n",
      "/local/home/az264973/github/xlensing/xlensing/model.py:27: RuntimeWarning: invalid value encountered in double_scalars\n",
      "  result = ((3.*M)/(cosmo.rhocz(z)*4.*np.pi*dc))**(1./3.)\n",
      "/local/home/az264973/github/xlensing/xlensing/model.py:105: RuntimeWarning: invalid value encountered in double_scalars\n",
      "  radius = (3*Mvir/(12.56637*cosmo.rhoM(z)))**(1/3) #4*pi = 12.56637...\n",
      "/local/home/az264973/github/xlensing/xlensing/model.py:23: RuntimeWarning: invalid value encountered in log\n",
      "  NFW_delta_c = lambda conc: (cosmo.cluster_overdensity/3.)*((conc**3)/(np.log(1.+conc)-conc/(1.+conc)))\n",
      "/local/home/az264973/github/xlensing/xlensing/model.py:27: RuntimeWarning: invalid value encountered in double_scalars\n",
      "  result = ((3.*M)/(cosmo.rhocz(z)*4.*np.pi*dc))**(1./3.)\n",
      "/local/home/az264973/github/xlensing/xlensing/model.py:105: RuntimeWarning: invalid value encountered in double_scalars\n",
      "  radius = (3*Mvir/(12.56637*cosmo.rhoM(z)))**(1/3) #4*pi = 12.56637...\n",
      "/local/home/az264973/github/xlensing/xlensing/model.py:23: RuntimeWarning: invalid value encountered in log\n",
      "  NFW_delta_c = lambda conc: (cosmo.cluster_overdensity/3.)*((conc**3)/(np.log(1.+conc)-conc/(1.+conc)))\n",
      "/local/home/az264973/github/xlensing/xlensing/model.py:23: RuntimeWarning: invalid value encountered in log\n",
      "  NFW_delta_c = lambda conc: (cosmo.cluster_overdensity/3.)*((conc**3)/(np.log(1.+conc)-conc/(1.+conc)))\n",
      "/local/home/az264973/github/xlensing/xlensing/model.py:23: RuntimeWarning: invalid value encountered in log\n",
      "  NFW_delta_c = lambda conc: (cosmo.cluster_overdensity/3.)*((conc**3)/(np.log(1.+conc)-conc/(1.+conc)))\n",
      "/local/home/az264973/github/xlensing/xlensing/model.py:27: RuntimeWarning: invalid value encountered in double_scalars\n",
      "  result = ((3.*M)/(cosmo.rhocz(z)*4.*np.pi*dc))**(1./3.)\n",
      "/local/home/az264973/github/xlensing/xlensing/model.py:105: RuntimeWarning: invalid value encountered in double_scalars\n",
      "  radius = (3*Mvir/(12.56637*cosmo.rhoM(z)))**(1/3) #4*pi = 12.56637...\n",
      "/local/home/az264973/github/xlensing/xlensing/model.py:23: RuntimeWarning: invalid value encountered in log\n",
      "  NFW_delta_c = lambda conc: (cosmo.cluster_overdensity/3.)*((conc**3)/(np.log(1.+conc)-conc/(1.+conc)))\n",
      "/local/home/az264973/github/xlensing/xlensing/model.py:27: RuntimeWarning: invalid value encountered in double_scalars\n",
      "  result = ((3.*M)/(cosmo.rhocz(z)*4.*np.pi*dc))**(1./3.)\n",
      "/local/home/az264973/github/xlensing/xlensing/model.py:105: RuntimeWarning: invalid value encountered in double_scalars\n",
      "  radius = (3*Mvir/(12.56637*cosmo.rhoM(z)))**(1/3) #4*pi = 12.56637...\n",
      "/local/home/az264973/github/xlensing/xlensing/model.py:23: RuntimeWarning: invalid value encountered in log\n",
      "  NFW_delta_c = lambda conc: (cosmo.cluster_overdensity/3.)*((conc**3)/(np.log(1.+conc)-conc/(1.+conc)))\n",
      "/local/home/az264973/github/xlensing/xlensing/model.py:27: RuntimeWarning: invalid value encountered in double_scalars\n",
      "  result = ((3.*M)/(cosmo.rhocz(z)*4.*np.pi*dc))**(1./3.)\n",
      "/local/home/az264973/github/xlensing/xlensing/model.py:105: RuntimeWarning: invalid value encountered in double_scalars\n",
      "  radius = (3*Mvir/(12.56637*cosmo.rhoM(z)))**(1/3) #4*pi = 12.56637...\n",
      "/local/home/az264973/github/xlensing/xlensing/model.py:23: RuntimeWarning: invalid value encountered in log\n",
      "  NFW_delta_c = lambda conc: (cosmo.cluster_overdensity/3.)*((conc**3)/(np.log(1.+conc)-conc/(1.+conc)))\n",
      "/local/home/az264973/github/xlensing/xlensing/model.py:23: RuntimeWarning: invalid value encountered in log\n",
      "  NFW_delta_c = lambda conc: (cosmo.cluster_overdensity/3.)*((conc**3)/(np.log(1.+conc)-conc/(1.+conc)))\n",
      "/local/home/az264973/github/xlensing/xlensing/model.py:23: RuntimeWarning: invalid value encountered in log\n",
      "  NFW_delta_c = lambda conc: (cosmo.cluster_overdensity/3.)*((conc**3)/(np.log(1.+conc)-conc/(1.+conc)))\n",
      "/local/home/az264973/github/xlensing/xlensing/model.py:23: RuntimeWarning: invalid value encountered in log\n",
      "  NFW_delta_c = lambda conc: (cosmo.cluster_overdensity/3.)*((conc**3)/(np.log(1.+conc)-conc/(1.+conc)))\n",
      "/local/home/az264973/github/xlensing/xlensing/model.py:27: RuntimeWarning: invalid value encountered in double_scalars\n",
      "  result = ((3.*M)/(cosmo.rhocz(z)*4.*np.pi*dc))**(1./3.)\n",
      "/local/home/az264973/github/xlensing/xlensing/model.py:105: RuntimeWarning: invalid value encountered in double_scalars\n",
      "  radius = (3*Mvir/(12.56637*cosmo.rhoM(z)))**(1/3) #4*pi = 12.56637...\n",
      "/local/home/az264973/github/xlensing/xlensing/model.py:23: RuntimeWarning: invalid value encountered in log\n",
      "  NFW_delta_c = lambda conc: (cosmo.cluster_overdensity/3.)*((conc**3)/(np.log(1.+conc)-conc/(1.+conc)))\n"
     ]
    },
    {
     "name": "stdout",
     "output_type": "stream",
     "text": [
      "Done in 199.66457223892212 seconds.\n",
      "Running MCMC...\n"
     ]
    },
    {
     "name": "stderr",
     "output_type": "stream",
     "text": [
      "/local/home/az264973/github/xlensing/xlensing/model.py:23: RuntimeWarning: invalid value encountered in log\n",
      "  NFW_delta_c = lambda conc: (cosmo.cluster_overdensity/3.)*((conc**3)/(np.log(1.+conc)-conc/(1.+conc)))\n",
      "/local/home/az264973/github/xlensing/xlensing/model.py:27: RuntimeWarning: invalid value encountered in double_scalars\n",
      "  result = ((3.*M)/(cosmo.rhocz(z)*4.*np.pi*dc))**(1./3.)\n",
      "/local/home/az264973/github/xlensing/xlensing/model.py:105: RuntimeWarning: invalid value encountered in double_scalars\n",
      "  radius = (3*Mvir/(12.56637*cosmo.rhoM(z)))**(1/3) #4*pi = 12.56637...\n",
      "/local/home/az264973/github/xlensing/xlensing/model.py:27: RuntimeWarning: invalid value encountered in double_scalars\n",
      "  result = ((3.*M)/(cosmo.rhocz(z)*4.*np.pi*dc))**(1./3.)\n",
      "/local/home/az264973/github/xlensing/xlensing/model.py:105: RuntimeWarning: invalid value encountered in double_scalars\n",
      "  radius = (3*Mvir/(12.56637*cosmo.rhoM(z)))**(1/3) #4*pi = 12.56637...\n",
      "/local/home/az264973/github/xlensing/xlensing/model.py:23: RuntimeWarning: invalid value encountered in log\n",
      "  NFW_delta_c = lambda conc: (cosmo.cluster_overdensity/3.)*((conc**3)/(np.log(1.+conc)-conc/(1.+conc)))\n",
      "/local/home/az264973/github/xlensing/xlensing/model.py:27: RuntimeWarning: invalid value encountered in double_scalars\n",
      "  result = ((3.*M)/(cosmo.rhocz(z)*4.*np.pi*dc))**(1./3.)\n",
      "/local/home/az264973/github/xlensing/xlensing/model.py:105: RuntimeWarning: invalid value encountered in double_scalars\n",
      "  radius = (3*Mvir/(12.56637*cosmo.rhoM(z)))**(1/3) #4*pi = 12.56637...\n",
      "/local/home/az264973/github/xlensing/xlensing/model.py:23: RuntimeWarning: invalid value encountered in log\n",
      "  NFW_delta_c = lambda conc: (cosmo.cluster_overdensity/3.)*((conc**3)/(np.log(1.+conc)-conc/(1.+conc)))\n",
      "/local/home/az264973/github/xlensing/xlensing/model.py:23: RuntimeWarning: invalid value encountered in log\n",
      "  NFW_delta_c = lambda conc: (cosmo.cluster_overdensity/3.)*((conc**3)/(np.log(1.+conc)-conc/(1.+conc)))\n",
      "/local/home/az264973/github/xlensing/xlensing/model.py:23: RuntimeWarning: invalid value encountered in log\n",
      "  NFW_delta_c = lambda conc: (cosmo.cluster_overdensity/3.)*((conc**3)/(np.log(1.+conc)-conc/(1.+conc)))\n",
      "/local/home/az264973/github/xlensing/xlensing/model.py:23: RuntimeWarning: invalid value encountered in log\n",
      "  NFW_delta_c = lambda conc: (cosmo.cluster_overdensity/3.)*((conc**3)/(np.log(1.+conc)-conc/(1.+conc)))\n",
      "/local/home/az264973/github/xlensing/xlensing/model.py:27: RuntimeWarning: invalid value encountered in double_scalars\n",
      "  result = ((3.*M)/(cosmo.rhocz(z)*4.*np.pi*dc))**(1./3.)\n",
      "/local/home/az264973/github/xlensing/xlensing/model.py:105: RuntimeWarning: invalid value encountered in double_scalars\n",
      "  radius = (3*Mvir/(12.56637*cosmo.rhoM(z)))**(1/3) #4*pi = 12.56637...\n",
      "/local/home/az264973/github/xlensing/xlensing/model.py:23: RuntimeWarning: invalid value encountered in log\n",
      "  NFW_delta_c = lambda conc: (cosmo.cluster_overdensity/3.)*((conc**3)/(np.log(1.+conc)-conc/(1.+conc)))\n",
      "/local/home/az264973/github/xlensing/xlensing/model.py:23: RuntimeWarning: invalid value encountered in log\n",
      "  NFW_delta_c = lambda conc: (cosmo.cluster_overdensity/3.)*((conc**3)/(np.log(1.+conc)-conc/(1.+conc)))\n",
      "/local/home/az264973/github/xlensing/xlensing/model.py:27: RuntimeWarning: invalid value encountered in double_scalars\n",
      "  result = ((3.*M)/(cosmo.rhocz(z)*4.*np.pi*dc))**(1./3.)\n",
      "/local/home/az264973/github/xlensing/xlensing/model.py:105: RuntimeWarning: invalid value encountered in double_scalars\n",
      "  radius = (3*Mvir/(12.56637*cosmo.rhoM(z)))**(1/3) #4*pi = 12.56637...\n",
      "/local/home/az264973/github/xlensing/xlensing/model.py:23: RuntimeWarning: invalid value encountered in log\n",
      "  NFW_delta_c = lambda conc: (cosmo.cluster_overdensity/3.)*((conc**3)/(np.log(1.+conc)-conc/(1.+conc)))\n",
      "/local/home/az264973/github/xlensing/xlensing/model.py:27: RuntimeWarning: invalid value encountered in double_scalars\n",
      "  result = ((3.*M)/(cosmo.rhocz(z)*4.*np.pi*dc))**(1./3.)\n",
      "/local/home/az264973/github/xlensing/xlensing/model.py:105: RuntimeWarning: invalid value encountered in double_scalars\n",
      "  radius = (3*Mvir/(12.56637*cosmo.rhoM(z)))**(1/3) #4*pi = 12.56637...\n",
      "/local/home/az264973/github/xlensing/xlensing/model.py:23: RuntimeWarning: invalid value encountered in log\n",
      "  NFW_delta_c = lambda conc: (cosmo.cluster_overdensity/3.)*((conc**3)/(np.log(1.+conc)-conc/(1.+conc)))\n",
      "/local/home/az264973/github/xlensing/xlensing/model.py:27: RuntimeWarning: invalid value encountered in double_scalars\n",
      "  result = ((3.*M)/(cosmo.rhocz(z)*4.*np.pi*dc))**(1./3.)\n",
      "/local/home/az264973/github/xlensing/xlensing/model.py:105: RuntimeWarning: invalid value encountered in double_scalars\n",
      "  radius = (3*Mvir/(12.56637*cosmo.rhoM(z)))**(1/3) #4*pi = 12.56637...\n",
      "/local/home/az264973/github/xlensing/xlensing/model.py:23: RuntimeWarning: invalid value encountered in log\n",
      "  NFW_delta_c = lambda conc: (cosmo.cluster_overdensity/3.)*((conc**3)/(np.log(1.+conc)-conc/(1.+conc)))\n",
      "/local/home/az264973/github/xlensing/xlensing/model.py:27: RuntimeWarning: invalid value encountered in double_scalars\n",
      "  result = ((3.*M)/(cosmo.rhocz(z)*4.*np.pi*dc))**(1./3.)\n",
      "/local/home/az264973/github/xlensing/xlensing/model.py:105: RuntimeWarning: invalid value encountered in double_scalars\n",
      "  radius = (3*Mvir/(12.56637*cosmo.rhoM(z)))**(1/3) #4*pi = 12.56637...\n",
      "/local/home/az264973/github/xlensing/xlensing/model.py:23: RuntimeWarning: invalid value encountered in log\n",
      "  NFW_delta_c = lambda conc: (cosmo.cluster_overdensity/3.)*((conc**3)/(np.log(1.+conc)-conc/(1.+conc)))\n",
      "/local/home/az264973/github/xlensing/xlensing/model.py:23: RuntimeWarning: invalid value encountered in log\n",
      "  NFW_delta_c = lambda conc: (cosmo.cluster_overdensity/3.)*((conc**3)/(np.log(1.+conc)-conc/(1.+conc)))\n",
      "/local/home/az264973/github/xlensing/xlensing/model.py:23: RuntimeWarning: invalid value encountered in log\n",
      "  NFW_delta_c = lambda conc: (cosmo.cluster_overdensity/3.)*((conc**3)/(np.log(1.+conc)-conc/(1.+conc)))\n",
      "/local/home/az264973/github/xlensing/xlensing/model.py:23: RuntimeWarning: invalid value encountered in log\n",
      "  NFW_delta_c = lambda conc: (cosmo.cluster_overdensity/3.)*((conc**3)/(np.log(1.+conc)-conc/(1.+conc)))\n",
      "/local/home/az264973/github/xlensing/xlensing/model.py:27: RuntimeWarning: invalid value encountered in double_scalars\n",
      "  result = ((3.*M)/(cosmo.rhocz(z)*4.*np.pi*dc))**(1./3.)\n",
      "/local/home/az264973/github/xlensing/xlensing/model.py:105: RuntimeWarning: invalid value encountered in double_scalars\n",
      "  radius = (3*Mvir/(12.56637*cosmo.rhoM(z)))**(1/3) #4*pi = 12.56637...\n",
      "/local/home/az264973/github/xlensing/xlensing/model.py:23: RuntimeWarning: invalid value encountered in log\n",
      "  NFW_delta_c = lambda conc: (cosmo.cluster_overdensity/3.)*((conc**3)/(np.log(1.+conc)-conc/(1.+conc)))\n",
      "/local/home/az264973/github/xlensing/xlensing/model.py:23: RuntimeWarning: invalid value encountered in log\n",
      "  NFW_delta_c = lambda conc: (cosmo.cluster_overdensity/3.)*((conc**3)/(np.log(1.+conc)-conc/(1.+conc)))\n",
      "/local/home/az264973/github/xlensing/xlensing/model.py:23: RuntimeWarning: invalid value encountered in log\n",
      "  NFW_delta_c = lambda conc: (cosmo.cluster_overdensity/3.)*((conc**3)/(np.log(1.+conc)-conc/(1.+conc)))\n",
      "/local/home/az264973/github/xlensing/xlensing/model.py:27: RuntimeWarning: invalid value encountered in double_scalars\n",
      "  result = ((3.*M)/(cosmo.rhocz(z)*4.*np.pi*dc))**(1./3.)\n",
      "/local/home/az264973/github/xlensing/xlensing/model.py:105: RuntimeWarning: invalid value encountered in double_scalars\n",
      "  radius = (3*Mvir/(12.56637*cosmo.rhoM(z)))**(1/3) #4*pi = 12.56637...\n",
      "/local/home/az264973/github/xlensing/xlensing/model.py:23: RuntimeWarning: invalid value encountered in log\n",
      "  NFW_delta_c = lambda conc: (cosmo.cluster_overdensity/3.)*((conc**3)/(np.log(1.+conc)-conc/(1.+conc)))\n",
      "/local/home/az264973/github/xlensing/xlensing/model.py:23: RuntimeWarning: invalid value encountered in log\n",
      "  NFW_delta_c = lambda conc: (cosmo.cluster_overdensity/3.)*((conc**3)/(np.log(1.+conc)-conc/(1.+conc)))\n",
      "/local/home/az264973/github/xlensing/xlensing/model.py:23: RuntimeWarning: invalid value encountered in log\n",
      "  NFW_delta_c = lambda conc: (cosmo.cluster_overdensity/3.)*((conc**3)/(np.log(1.+conc)-conc/(1.+conc)))\n",
      "/local/home/az264973/github/xlensing/xlensing/model.py:27: RuntimeWarning: invalid value encountered in double_scalars\n",
      "  result = ((3.*M)/(cosmo.rhocz(z)*4.*np.pi*dc))**(1./3.)\n",
      "/local/home/az264973/github/xlensing/xlensing/model.py:105: RuntimeWarning: invalid value encountered in double_scalars\n",
      "  radius = (3*Mvir/(12.56637*cosmo.rhoM(z)))**(1/3) #4*pi = 12.56637...\n",
      "/local/home/az264973/github/xlensing/xlensing/model.py:23: RuntimeWarning: invalid value encountered in log\n",
      "  NFW_delta_c = lambda conc: (cosmo.cluster_overdensity/3.)*((conc**3)/(np.log(1.+conc)-conc/(1.+conc)))\n",
      "/local/home/az264973/github/xlensing/xlensing/model.py:23: RuntimeWarning: invalid value encountered in log\n",
      "  NFW_delta_c = lambda conc: (cosmo.cluster_overdensity/3.)*((conc**3)/(np.log(1.+conc)-conc/(1.+conc)))\n",
      "/local/home/az264973/github/xlensing/xlensing/model.py:23: RuntimeWarning: invalid value encountered in log\n",
      "  NFW_delta_c = lambda conc: (cosmo.cluster_overdensity/3.)*((conc**3)/(np.log(1.+conc)-conc/(1.+conc)))\n",
      "/local/home/az264973/github/xlensing/xlensing/model.py:23: RuntimeWarning: invalid value encountered in log\n",
      "  NFW_delta_c = lambda conc: (cosmo.cluster_overdensity/3.)*((conc**3)/(np.log(1.+conc)-conc/(1.+conc)))\n",
      "/local/home/az264973/github/xlensing/xlensing/model.py:23: RuntimeWarning: invalid value encountered in log\n",
      "  NFW_delta_c = lambda conc: (cosmo.cluster_overdensity/3.)*((conc**3)/(np.log(1.+conc)-conc/(1.+conc)))\n",
      "/local/home/az264973/github/xlensing/xlensing/model.py:23: RuntimeWarning: invalid value encountered in log\n",
      "  NFW_delta_c = lambda conc: (cosmo.cluster_overdensity/3.)*((conc**3)/(np.log(1.+conc)-conc/(1.+conc)))\n",
      "/local/home/az264973/github/xlensing/xlensing/model.py:27: RuntimeWarning: invalid value encountered in double_scalars\n",
      "  result = ((3.*M)/(cosmo.rhocz(z)*4.*np.pi*dc))**(1./3.)\n",
      "/local/home/az264973/github/xlensing/xlensing/model.py:105: RuntimeWarning: invalid value encountered in double_scalars\n",
      "  radius = (3*Mvir/(12.56637*cosmo.rhoM(z)))**(1/3) #4*pi = 12.56637...\n",
      "/local/home/az264973/github/xlensing/xlensing/model.py:23: RuntimeWarning: invalid value encountered in log\n",
      "  NFW_delta_c = lambda conc: (cosmo.cluster_overdensity/3.)*((conc**3)/(np.log(1.+conc)-conc/(1.+conc)))\n",
      "/local/home/az264973/github/xlensing/xlensing/model.py:23: RuntimeWarning: invalid value encountered in log\n",
      "  NFW_delta_c = lambda conc: (cosmo.cluster_overdensity/3.)*((conc**3)/(np.log(1.+conc)-conc/(1.+conc)))\n",
      "/local/home/az264973/github/xlensing/xlensing/model.py:27: RuntimeWarning: invalid value encountered in double_scalars\n",
      "  result = ((3.*M)/(cosmo.rhocz(z)*4.*np.pi*dc))**(1./3.)\n",
      "/local/home/az264973/github/xlensing/xlensing/model.py:105: RuntimeWarning: invalid value encountered in double_scalars\n",
      "  radius = (3*Mvir/(12.56637*cosmo.rhoM(z)))**(1/3) #4*pi = 12.56637...\n",
      "/local/home/az264973/github/xlensing/xlensing/model.py:23: RuntimeWarning: invalid value encountered in log\n",
      "  NFW_delta_c = lambda conc: (cosmo.cluster_overdensity/3.)*((conc**3)/(np.log(1.+conc)-conc/(1.+conc)))\n",
      "/local/home/az264973/github/xlensing/xlensing/model.py:27: RuntimeWarning: invalid value encountered in double_scalars\n",
      "  result = ((3.*M)/(cosmo.rhocz(z)*4.*np.pi*dc))**(1./3.)\n",
      "/local/home/az264973/github/xlensing/xlensing/model.py:105: RuntimeWarning: invalid value encountered in double_scalars\n",
      "  radius = (3*Mvir/(12.56637*cosmo.rhoM(z)))**(1/3) #4*pi = 12.56637...\n",
      "/local/home/az264973/github/xlensing/xlensing/model.py:23: RuntimeWarning: invalid value encountered in log\n",
      "  NFW_delta_c = lambda conc: (cosmo.cluster_overdensity/3.)*((conc**3)/(np.log(1.+conc)-conc/(1.+conc)))\n",
      "/local/home/az264973/github/xlensing/xlensing/model.py:27: RuntimeWarning: invalid value encountered in double_scalars\n",
      "  result = ((3.*M)/(cosmo.rhocz(z)*4.*np.pi*dc))**(1./3.)\n",
      "/local/home/az264973/github/xlensing/xlensing/model.py:105: RuntimeWarning: invalid value encountered in double_scalars\n",
      "  radius = (3*Mvir/(12.56637*cosmo.rhoM(z)))**(1/3) #4*pi = 12.56637...\n",
      "/local/home/az264973/github/xlensing/xlensing/model.py:23: RuntimeWarning: invalid value encountered in log\n",
      "  NFW_delta_c = lambda conc: (cosmo.cluster_overdensity/3.)*((conc**3)/(np.log(1.+conc)-conc/(1.+conc)))\n",
      "/local/home/az264973/github/xlensing/xlensing/model.py:27: RuntimeWarning: invalid value encountered in double_scalars\n",
      "  result = ((3.*M)/(cosmo.rhocz(z)*4.*np.pi*dc))**(1./3.)\n",
      "/local/home/az264973/github/xlensing/xlensing/model.py:105: RuntimeWarning: invalid value encountered in double_scalars\n",
      "  radius = (3*Mvir/(12.56637*cosmo.rhoM(z)))**(1/3) #4*pi = 12.56637...\n",
      "/local/home/az264973/github/xlensing/xlensing/model.py:23: RuntimeWarning: invalid value encountered in log\n",
      "  NFW_delta_c = lambda conc: (cosmo.cluster_overdensity/3.)*((conc**3)/(np.log(1.+conc)-conc/(1.+conc)))\n",
      "/local/home/az264973/github/xlensing/xlensing/model.py:23: RuntimeWarning: invalid value encountered in log\n",
      "  NFW_delta_c = lambda conc: (cosmo.cluster_overdensity/3.)*((conc**3)/(np.log(1.+conc)-conc/(1.+conc)))\n",
      "/local/home/az264973/github/xlensing/xlensing/model.py:27: RuntimeWarning: invalid value encountered in double_scalars\n",
      "  result = ((3.*M)/(cosmo.rhocz(z)*4.*np.pi*dc))**(1./3.)\n",
      "/local/home/az264973/github/xlensing/xlensing/model.py:105: RuntimeWarning: invalid value encountered in double_scalars\n",
      "  radius = (3*Mvir/(12.56637*cosmo.rhoM(z)))**(1/3) #4*pi = 12.56637...\n",
      "/local/home/az264973/github/xlensing/xlensing/model.py:23: RuntimeWarning: invalid value encountered in log\n",
      "  NFW_delta_c = lambda conc: (cosmo.cluster_overdensity/3.)*((conc**3)/(np.log(1.+conc)-conc/(1.+conc)))\n",
      "/local/home/az264973/github/xlensing/xlensing/model.py:23: RuntimeWarning: invalid value encountered in log\n",
      "  NFW_delta_c = lambda conc: (cosmo.cluster_overdensity/3.)*((conc**3)/(np.log(1.+conc)-conc/(1.+conc)))\n",
      "/local/home/az264973/github/xlensing/xlensing/model.py:23: RuntimeWarning: invalid value encountered in log\n",
      "  NFW_delta_c = lambda conc: (cosmo.cluster_overdensity/3.)*((conc**3)/(np.log(1.+conc)-conc/(1.+conc)))\n",
      "/local/home/az264973/github/xlensing/xlensing/model.py:27: RuntimeWarning: invalid value encountered in double_scalars\n",
      "  result = ((3.*M)/(cosmo.rhocz(z)*4.*np.pi*dc))**(1./3.)\n",
      "/local/home/az264973/github/xlensing/xlensing/model.py:105: RuntimeWarning: invalid value encountered in double_scalars\n",
      "  radius = (3*Mvir/(12.56637*cosmo.rhoM(z)))**(1/3) #4*pi = 12.56637...\n",
      "/local/home/az264973/github/xlensing/xlensing/model.py:23: RuntimeWarning: invalid value encountered in log\n",
      "  NFW_delta_c = lambda conc: (cosmo.cluster_overdensity/3.)*((conc**3)/(np.log(1.+conc)-conc/(1.+conc)))\n",
      "/local/home/az264973/github/xlensing/xlensing/model.py:23: RuntimeWarning: invalid value encountered in log\n",
      "  NFW_delta_c = lambda conc: (cosmo.cluster_overdensity/3.)*((conc**3)/(np.log(1.+conc)-conc/(1.+conc)))\n",
      "/local/home/az264973/github/xlensing/xlensing/model.py:27: RuntimeWarning: invalid value encountered in double_scalars\n",
      "  result = ((3.*M)/(cosmo.rhocz(z)*4.*np.pi*dc))**(1./3.)\n",
      "/local/home/az264973/github/xlensing/xlensing/model.py:105: RuntimeWarning: invalid value encountered in double_scalars\n",
      "  radius = (3*Mvir/(12.56637*cosmo.rhoM(z)))**(1/3) #4*pi = 12.56637...\n",
      "/local/home/az264973/github/xlensing/xlensing/model.py:23: RuntimeWarning: invalid value encountered in log\n",
      "  NFW_delta_c = lambda conc: (cosmo.cluster_overdensity/3.)*((conc**3)/(np.log(1.+conc)-conc/(1.+conc)))\n",
      "/local/home/az264973/github/xlensing/xlensing/model.py:23: RuntimeWarning: invalid value encountered in log\n",
      "  NFW_delta_c = lambda conc: (cosmo.cluster_overdensity/3.)*((conc**3)/(np.log(1.+conc)-conc/(1.+conc)))\n",
      "/local/home/az264973/github/xlensing/xlensing/model.py:23: RuntimeWarning: invalid value encountered in log\n",
      "  NFW_delta_c = lambda conc: (cosmo.cluster_overdensity/3.)*((conc**3)/(np.log(1.+conc)-conc/(1.+conc)))\n"
     ]
    },
    {
     "name": "stdout",
     "output_type": "stream",
     "text": [
      "Done in 198.13286232948303 seconds.\n",
      "Running MCMC...\n"
     ]
    },
    {
     "name": "stderr",
     "output_type": "stream",
     "text": [
      "/local/home/az264973/github/xlensing/xlensing/model.py:23: RuntimeWarning: invalid value encountered in log\n",
      "  NFW_delta_c = lambda conc: (cosmo.cluster_overdensity/3.)*((conc**3)/(np.log(1.+conc)-conc/(1.+conc)))\n",
      "/local/home/az264973/github/xlensing/xlensing/model.py:27: RuntimeWarning: invalid value encountered in double_scalars\n",
      "  result = ((3.*M)/(cosmo.rhocz(z)*4.*np.pi*dc))**(1./3.)\n",
      "/local/home/az264973/github/xlensing/xlensing/model.py:105: RuntimeWarning: invalid value encountered in double_scalars\n",
      "  radius = (3*Mvir/(12.56637*cosmo.rhoM(z)))**(1/3) #4*pi = 12.56637...\n",
      "/local/home/az264973/github/xlensing/xlensing/model.py:27: RuntimeWarning: invalid value encountered in double_scalars\n",
      "  result = ((3.*M)/(cosmo.rhocz(z)*4.*np.pi*dc))**(1./3.)\n",
      "/local/home/az264973/github/xlensing/xlensing/model.py:105: RuntimeWarning: invalid value encountered in double_scalars\n",
      "  radius = (3*Mvir/(12.56637*cosmo.rhoM(z)))**(1/3) #4*pi = 12.56637...\n",
      "/local/home/az264973/github/xlensing/xlensing/model.py:23: RuntimeWarning: invalid value encountered in log\n",
      "  NFW_delta_c = lambda conc: (cosmo.cluster_overdensity/3.)*((conc**3)/(np.log(1.+conc)-conc/(1.+conc)))\n",
      "/local/home/az264973/github/xlensing/xlensing/model.py:27: RuntimeWarning: invalid value encountered in double_scalars\n",
      "  result = ((3.*M)/(cosmo.rhocz(z)*4.*np.pi*dc))**(1./3.)\n",
      "/local/home/az264973/github/xlensing/xlensing/model.py:105: RuntimeWarning: invalid value encountered in double_scalars\n",
      "  radius = (3*Mvir/(12.56637*cosmo.rhoM(z)))**(1/3) #4*pi = 12.56637...\n",
      "/local/home/az264973/github/xlensing/xlensing/model.py:23: RuntimeWarning: invalid value encountered in log\n",
      "  NFW_delta_c = lambda conc: (cosmo.cluster_overdensity/3.)*((conc**3)/(np.log(1.+conc)-conc/(1.+conc)))\n",
      "/local/home/az264973/github/xlensing/xlensing/model.py:23: RuntimeWarning: invalid value encountered in log\n",
      "  NFW_delta_c = lambda conc: (cosmo.cluster_overdensity/3.)*((conc**3)/(np.log(1.+conc)-conc/(1.+conc)))\n",
      "/local/home/az264973/github/xlensing/xlensing/model.py:27: RuntimeWarning: invalid value encountered in double_scalars\n",
      "  result = ((3.*M)/(cosmo.rhocz(z)*4.*np.pi*dc))**(1./3.)\n",
      "/local/home/az264973/github/xlensing/xlensing/model.py:105: RuntimeWarning: invalid value encountered in double_scalars\n",
      "  radius = (3*Mvir/(12.56637*cosmo.rhoM(z)))**(1/3) #4*pi = 12.56637...\n",
      "/local/home/az264973/github/xlensing/xlensing/model.py:23: RuntimeWarning: invalid value encountered in log\n",
      "  NFW_delta_c = lambda conc: (cosmo.cluster_overdensity/3.)*((conc**3)/(np.log(1.+conc)-conc/(1.+conc)))\n",
      "/local/home/az264973/github/xlensing/xlensing/model.py:27: RuntimeWarning: invalid value encountered in double_scalars\n",
      "  result = ((3.*M)/(cosmo.rhocz(z)*4.*np.pi*dc))**(1./3.)\n",
      "/local/home/az264973/github/xlensing/xlensing/model.py:105: RuntimeWarning: invalid value encountered in double_scalars\n",
      "  radius = (3*Mvir/(12.56637*cosmo.rhoM(z)))**(1/3) #4*pi = 12.56637...\n",
      "/local/home/az264973/github/xlensing/xlensing/model.py:23: RuntimeWarning: invalid value encountered in log\n",
      "  NFW_delta_c = lambda conc: (cosmo.cluster_overdensity/3.)*((conc**3)/(np.log(1.+conc)-conc/(1.+conc)))\n",
      "/local/home/az264973/github/xlensing/xlensing/model.py:27: RuntimeWarning: invalid value encountered in double_scalars\n",
      "  result = ((3.*M)/(cosmo.rhocz(z)*4.*np.pi*dc))**(1./3.)\n",
      "/local/home/az264973/github/xlensing/xlensing/model.py:105: RuntimeWarning: invalid value encountered in double_scalars\n",
      "  radius = (3*Mvir/(12.56637*cosmo.rhoM(z)))**(1/3) #4*pi = 12.56637...\n",
      "/local/home/az264973/github/xlensing/xlensing/model.py:23: RuntimeWarning: invalid value encountered in log\n",
      "  NFW_delta_c = lambda conc: (cosmo.cluster_overdensity/3.)*((conc**3)/(np.log(1.+conc)-conc/(1.+conc)))\n",
      "/local/home/az264973/github/xlensing/xlensing/model.py:27: RuntimeWarning: invalid value encountered in double_scalars\n",
      "  result = ((3.*M)/(cosmo.rhocz(z)*4.*np.pi*dc))**(1./3.)\n",
      "/local/home/az264973/github/xlensing/xlensing/model.py:105: RuntimeWarning: invalid value encountered in double_scalars\n",
      "  radius = (3*Mvir/(12.56637*cosmo.rhoM(z)))**(1/3) #4*pi = 12.56637...\n",
      "/local/home/az264973/github/xlensing/xlensing/model.py:23: RuntimeWarning: invalid value encountered in log\n",
      "  NFW_delta_c = lambda conc: (cosmo.cluster_overdensity/3.)*((conc**3)/(np.log(1.+conc)-conc/(1.+conc)))\n",
      "/local/home/az264973/github/xlensing/xlensing/model.py:27: RuntimeWarning: invalid value encountered in double_scalars\n",
      "  result = ((3.*M)/(cosmo.rhocz(z)*4.*np.pi*dc))**(1./3.)\n",
      "/local/home/az264973/github/xlensing/xlensing/model.py:105: RuntimeWarning: invalid value encountered in double_scalars\n",
      "  radius = (3*Mvir/(12.56637*cosmo.rhoM(z)))**(1/3) #4*pi = 12.56637...\n",
      "/local/home/az264973/github/xlensing/xlensing/model.py:23: RuntimeWarning: invalid value encountered in log\n",
      "  NFW_delta_c = lambda conc: (cosmo.cluster_overdensity/3.)*((conc**3)/(np.log(1.+conc)-conc/(1.+conc)))\n",
      "/local/home/az264973/github/xlensing/xlensing/model.py:27: RuntimeWarning: invalid value encountered in double_scalars\n",
      "  result = ((3.*M)/(cosmo.rhocz(z)*4.*np.pi*dc))**(1./3.)\n",
      "/local/home/az264973/github/xlensing/xlensing/model.py:105: RuntimeWarning: invalid value encountered in double_scalars\n",
      "  radius = (3*Mvir/(12.56637*cosmo.rhoM(z)))**(1/3) #4*pi = 12.56637...\n",
      "/local/home/az264973/github/xlensing/xlensing/model.py:23: RuntimeWarning: invalid value encountered in log\n",
      "  NFW_delta_c = lambda conc: (cosmo.cluster_overdensity/3.)*((conc**3)/(np.log(1.+conc)-conc/(1.+conc)))\n",
      "/local/home/az264973/github/xlensing/xlensing/model.py:27: RuntimeWarning: invalid value encountered in double_scalars\n",
      "  result = ((3.*M)/(cosmo.rhocz(z)*4.*np.pi*dc))**(1./3.)\n",
      "/local/home/az264973/github/xlensing/xlensing/model.py:105: RuntimeWarning: invalid value encountered in double_scalars\n",
      "  radius = (3*Mvir/(12.56637*cosmo.rhoM(z)))**(1/3) #4*pi = 12.56637...\n",
      "/local/home/az264973/github/xlensing/xlensing/model.py:23: RuntimeWarning: invalid value encountered in log\n",
      "  NFW_delta_c = lambda conc: (cosmo.cluster_overdensity/3.)*((conc**3)/(np.log(1.+conc)-conc/(1.+conc)))\n",
      "/local/home/az264973/github/xlensing/xlensing/model.py:27: RuntimeWarning: invalid value encountered in double_scalars\n",
      "  result = ((3.*M)/(cosmo.rhocz(z)*4.*np.pi*dc))**(1./3.)\n",
      "/local/home/az264973/github/xlensing/xlensing/model.py:105: RuntimeWarning: invalid value encountered in double_scalars\n",
      "  radius = (3*Mvir/(12.56637*cosmo.rhoM(z)))**(1/3) #4*pi = 12.56637...\n",
      "/local/home/az264973/github/xlensing/xlensing/model.py:23: RuntimeWarning: invalid value encountered in log\n",
      "  NFW_delta_c = lambda conc: (cosmo.cluster_overdensity/3.)*((conc**3)/(np.log(1.+conc)-conc/(1.+conc)))\n",
      "/local/home/az264973/github/xlensing/xlensing/model.py:27: RuntimeWarning: invalid value encountered in double_scalars\n",
      "  result = ((3.*M)/(cosmo.rhocz(z)*4.*np.pi*dc))**(1./3.)\n",
      "/local/home/az264973/github/xlensing/xlensing/model.py:105: RuntimeWarning: invalid value encountered in double_scalars\n",
      "  radius = (3*Mvir/(12.56637*cosmo.rhoM(z)))**(1/3) #4*pi = 12.56637...\n",
      "/local/home/az264973/github/xlensing/xlensing/model.py:23: RuntimeWarning: invalid value encountered in log\n",
      "  NFW_delta_c = lambda conc: (cosmo.cluster_overdensity/3.)*((conc**3)/(np.log(1.+conc)-conc/(1.+conc)))\n",
      "/local/home/az264973/github/xlensing/xlensing/model.py:27: RuntimeWarning: invalid value encountered in double_scalars\n",
      "  result = ((3.*M)/(cosmo.rhocz(z)*4.*np.pi*dc))**(1./3.)\n",
      "/local/home/az264973/github/xlensing/xlensing/model.py:105: RuntimeWarning: invalid value encountered in double_scalars\n",
      "  radius = (3*Mvir/(12.56637*cosmo.rhoM(z)))**(1/3) #4*pi = 12.56637...\n"
     ]
    },
    {
     "name": "stdout",
     "output_type": "stream",
     "text": [
      "Done in 199.05113077163696 seconds.\n"
     ]
    }
   ],
   "source": [
    "ndim, nwalkers, steps = 3, 256, 256\n",
    "samplestick = []\n",
    "#for each stack, run MCMC\n",
    "burnin=round(steps/4.)\n",
    "for stickresult in stick_results:\n",
    "    signal = sigmas\n",
    "    covariance = sigmas_cov\n",
    "    mean_z = np.average(stake['Z'])\n",
    "\n",
    "    #build data likelihood\n",
    "    model = lambda theta: NFWsimple(theta,mean_z,radii)\n",
    "    likelihood = xlensing.fitting.ln_gaussian_likelihood_maker((stickresult[0],stickresult[1]),model)\n",
    "    posterior = lambda theta : likelihood(theta) +prior(theta)\n",
    "\n",
    "    #initialise walkers\n",
    "    pos = []\n",
    "    for i in range(nwalkers):\n",
    "        M200 = np.random.uniform(M200lo,M200hi)\n",
    "        C200 = np.random.uniform(C200lo,C200hi)\n",
    "        PCC  = np.random.uniform(PCClo,PCChi)\n",
    "        pos.append(np.array([M200,C200,PCC]))\n",
    "\n",
    "    sampler = emcee.EnsembleSampler(nwalkers, ndim, posterior,threads=16)\n",
    "    print(\"Running MCMC...\")\n",
    "    t = time.time()\n",
    "    sampler.run_mcmc(pos, steps, rstate0=np.random.get_state())\n",
    "    print(\"Done in \" + str(time.time()-t) + \" seconds.\")\n",
    "    samples = sampler.chain[:, burnin:, :].reshape((-1, ndim))\n",
    "    samplestick.append(samples)"
   ]
  },
  {
   "cell_type": "code",
   "execution_count": 18,
   "metadata": {},
   "outputs": [
    {
     "name": "stdout",
     "output_type": "stream",
     "text": [
      "Mvir: 3.26e+14 p 6.80e+13 m 5.86e+13\n",
      "Conc: 10.90 p 4.43 m 3.51\n",
      "Pcc: 0.74 p 0.07 m 0.07\n",
      "Mvir: 3.51e+14 p 6.69e+13 m 6.25e+13\n",
      "Conc: 9.68 p 4.05 m 2.73\n",
      "Pcc: 0.74 p 0.07 m 0.07\n",
      "Mvir: 2.24e+14 p 5.32e+13 m 4.87e+13\n",
      "Conc: 10.16 p 5.40 m 3.72\n",
      "Pcc: 0.75 p 0.07 m 0.07\n",
      "Removed no burn in\n",
      "Removed no burn in\n",
      "Removed no burn in\n"
     ]
    },
    {
     "data": {
      "image/png": "[encoded data removed]",
      "text/plain": [
       "<Figure size 432x432 with 6 Axes>"
      ]
     },
     "metadata": {
      "needs_background": "light"
     },
     "output_type": "display_data"
    }
   ],
   "source": [
    "for samples in samplestick:\n",
    "    mvir_tru,conc_tru,pcc_tru= map(lambda v: (v[1], v[2]-v[1], v[1]-v[0]), zip(*np.percentile(samples, [16, 50, 84],axis=0)))\n",
    "    print(\"Mvir: {:.2e}\".format(mvir_tru[0]) + \" p {:.2e}\".format(mvir_tru[1]) + \" m {:.2e}\".format(mvir_tru[2]))\n",
    "    print(\"Conc: {:.2f}\".format(conc_tru[0]) + \" p {:.2f}\".format(conc_tru[1]) + \" m {:.2f}\".format(conc_tru[2]))\n",
    "    print(\"Pcc: {:.2f}\".format(pcc_tru[0]) + \" p {:.2f}\".format(pcc_tru[1]) + \" m {:.2f}\".format(pcc_tru[2]))\n",
    "\n",
    "labs =  [\"M_{200} [M_\\\\odot]\", \"c_{200}\",\"p_{cc}\"]\n",
    "\n",
    "g = plots.getSubplotPlotter()\n",
    "sample = [MCSamples(samples=samples, names = labs,labels=labs) for samples in samplestick]\n",
    "g.triangle_plot(sample,filled=True)"
   ]
  },
  {
   "cell_type": "markdown",
   "metadata": {},
   "source": [
    "## Building new likelihoods"
   ]
  },
  {
   "cell_type": "markdown",
   "metadata": {},
   "source": [
    "Single cluster:"
   ]
  },
  {
   "cell_type": "code",
   "execution_count": null,
   "metadata": {},
   "outputs": [],
   "source": [
    "stick=[cluster for cluster in clusters[clusters['Z']<0.4][0:10]]"
   ]
  },
  {
   "cell_type": "code",
   "execution_count": null,
   "metadata": {},
   "outputs": [],
   "source": [
    "Nboot=500\n",
    "stick_results = []\n",
    "for stake in stick:\n",
    "    t = time.time()\n",
    "    clusterbkgs = []\n",
    "    index =stake['INDEX']\n",
    "    Sigma_crit = np.array(results[index]['Critical Density'])\n",
    "    e_t = np.array(results[index]['Tangential Shear'])\n",
    "    e_x = np.array(results[index]['Critical Density'])\n",
    "    W = np.array(results[index]['Weights'])\n",
    "    M = np.array(results[index]['Mult. Bias'])\n",
    "    R = np.array(results[index]['Radial Distance'])\n",
    "    clusterbkgs.append(np.array([Sigma_crit, e_t, e_x, W, R,M]))\n",
    "    sigmas, sigmas_cov, xigmas, xigmas_cov = xlensing.data.stack(clusterbkgs,bins_lims,Nboot)\n",
    "    stick_results.append( ( sigmas, sigmas_cov, xigmas, xigmas_cov) )\n",
    "    print(\"Done in \" + str(time.time()-t) + \" seconds.\\n\")"
   ]
  },
  {
   "cell_type": "code",
   "execution_count": null,
   "metadata": {},
   "outputs": [],
   "source": [
    "plt.figure(figsize=(7,9))\n",
    "\n",
    "for stickresult in stick_results:\n",
    "    plt.scatter(radii,np.array(stickresult[0]))\n",
    "    plt.errorbar(radii,np.array(stickresult[0]),yerr=np.sqrt(np.diag(stickresult[1])),fmt='.')\n",
    "\n",
    "plt.xscale('log')\n",
    "plt.yscale('log')\n",
    "plt.savefig('data.pdf')"
   ]
  },
  {
   "cell_type": "code",
   "execution_count": null,
   "metadata": {},
   "outputs": [],
   "source": [
    "ndim, nwalkers, steps = 3, 256, 256\n",
    "samplestick = []\n",
    "#for each stack, run MCMC\n",
    "burnin=round(steps/4.)\n",
    "for j in range(len(stick_results)):\n",
    "    stickresult = stick_results[j]\n",
    "    signal = sigmas\n",
    "    covariance = sigmas_cov\n",
    "    mean_z = np.average(stick[j]['Z'])\n",
    "\n",
    "    #build data likelihood\n",
    "    model = lambda theta: NFWsimple(theta,mean_z,radii)\n",
    "    likelihood = xlensing.fitting.ln_gaussian_likelihood_maker((stickresult[0],stickresult[1]),model)\n",
    "    posterior = lambda theta : likelihood(theta) +prior(theta)\n",
    "\n",
    "    #initialise walkers\n",
    "    pos = []\n",
    "    for i in range(nwalkers):\n",
    "        M200 = np.random.uniform(M200lo,M200hi)\n",
    "        C200 = np.random.uniform(C200lo,C200hi)\n",
    "        PCC  = np.random.uniform(PCClo,PCChi)\n",
    "        pos.append(np.array([M200,C200,PCC]))\n",
    "\n",
    "    sampler = emcee.EnsembleSampler(nwalkers, ndim, posterior,threads=16)\n",
    "    print(\"Running MCMC...\")\n",
    "    t = time.time()\n",
    "    sampler.run_mcmc(pos, steps, rstate0=np.random.get_state())\n",
    "    print(\"Done in \" + str(time.time()-t) + \" seconds.\")\n",
    "    samples = sampler.chain[:, burnin:, :].reshape((-1, ndim))\n",
    "    samplestick.append(samples)"
   ]
  },
  {
   "cell_type": "code",
   "execution_count": null,
   "metadata": {},
   "outputs": [],
   "source": [
    "for samples in samplestick:\n",
    "    mvir_tru,conc_tru,pcc_tru= map(lambda v: (v[1], v[2]-v[1], v[1]-v[0]), zip(*np.percentile(samples, [16, 50, 84],axis=0)))\n",
    "    print(\"Mvir: {:.2e}\".format(mvir_tru[0]) + \" p {:.2e}\".format(mvir_tru[1]) + \" m {:.2e}\".format(mvir_tru[2]))\n",
    "    print(\"Conc: {:.2f}\".format(conc_tru[0]) + \" p {:.2f}\".format(conc_tru[1]) + \" m {:.2f}\".format(conc_tru[2]))\n",
    "    print(\"Pcc: {:.2f}\".format(pcc_tru[0]) + \" p {:.2f}\".format(pcc_tru[1]) + \" m {:.2f}\".format(pcc_tru[2]))\n",
    "    print()\n",
    "\n",
    "labs =  [\"M_{200} [M_\\\\odot]\", \"c_{200}\",\"p_{cc}\"]\n",
    "\n",
    "g = plots.getSubplotPlotter(subplot_size=6)\n",
    "sample = [MCSamples(samples=samples, names = labs,labels=labs) for samples in samplestick[:-1]]\n",
    "\n",
    "g.triangle_plot(sample,filled=True)\n",
    "g.fig.savefig('single_clusters_lowz.png',bbox_inches='tight')"
   ]
  },
  {
   "cell_type": "markdown",
   "metadata": {},
   "source": [
    "## mini-J-PAS Data"
   ]
  },
  {
   "cell_type": "code",
   "execution_count": null,
   "metadata": {},
   "outputs": [],
   "source": [
    "clusters = Table.read('Data/MINI_JPAS_AMICO/AMICO_mini-JPASv3.fits')"
   ]
  },
  {
   "cell_type": "code",
   "execution_count": null,
   "metadata": {},
   "outputs": [],
   "source": [
    "zmax=max(clusters['Z'])\n",
    "print(np.degrees(10/xlensing.cosmo.DA(0,zmax)))\n",
    "print(max(clusters['RA']))\n",
    "print(min(clusters['RA']))\n",
    "print(max(clusters['DEC']))\n",
    "print(min(clusters['DEC']))"
   ]
  },
  {
   "cell_type": "raw",
   "metadata": {},
   "source": [
    "SELECT\n",
    "ALPHA_J2000, DELTA_J2000, e1, e2, weight, Z_B, m\n",
    "FROM\n",
    "cfht.clens\n",
    "WHERE\n",
    "ALPHA_J2000>212.8\n",
    "AND ALPHA_J2000<216.3\n",
    "AND DELTA_J2000>51.3\n",
    "AND DELTA_J2000<53.9\n",
    "AND weight>0\n",
    "AND fitclass>-1\n",
    "AND fitclass<1\n",
    "AND MASK<1"
   ]
  },
  {
   "cell_type": "code",
   "execution_count": null,
   "metadata": {},
   "outputs": [],
   "source": [
    "sourcescfht=Table.read(\"Data/MINI_JPAS_AMICO/CFHTLens.tsv\",format='ascii')"
   ]
  },
  {
   "cell_type": "code",
   "execution_count": null,
   "metadata": {},
   "outputs": [],
   "source": [
    "clusters['RA','DEC']"
   ]
  },
  {
   "cell_type": "code",
   "execution_count": null,
   "metadata": {},
   "outputs": [],
   "source": [
    "plt.figure(figsize=(2.5*10,3*10))\n",
    "plt.scatter(sourcescfht['ALPHA_J2000'],sourcescfht['DELTA_J2000'],s=1,alpha=0.5)\n",
    "k=0\n",
    "for cluster in clusters:\n",
    "    plt.scatter(cluster['RA'],cluster['DEC'],s=80,color='red')\n",
    "    print(cluster['RA'],cluster['DEC'])\n",
    "    \n",
    "    plt.text(cluster['RA'],cluster['DEC'],\"{}\".format(k),fontsize=20, color='red')\n",
    "    k=k+1\n",
    "plt.savefig('mini_jpas_cluster_lensing.png',bbox_inches='tight')"
   ]
  },
  {
   "cell_type": "code",
   "execution_count": null,
   "metadata": {},
   "outputs": [],
   "source": [
    "clusters"
   ]
  },
  {
   "cell_type": "code",
   "execution_count": null,
   "metadata": {},
   "outputs": [],
   "source": [
    "sourcescfht.colnames"
   ]
  },
  {
   "cell_type": "code",
   "execution_count": null,
   "metadata": {},
   "outputs": [],
   "source": [
    "clusters['RA_RAD'] = np.radians(clusters['RA'])\n",
    "clusters['DEC_RAD']= np.radians(clusters['DEC'])\n",
    "clusters['loc'] = np.array([i for i in range(len(clusters))])\n",
    "\n",
    "sr_RA = np.radians(np.array(sourcescfht['ALPHA_J2000']))\n",
    "sr_DEC= np.radians(np.array(sourcescfht['DELTA_J2000']))\n",
    "sr_z  = np.array(sourcescfht['Z_B'])\n",
    "sr_E1 = np.array(sourcescfht['e1'])\n",
    "sr_E2 = np.array(sourcescfht['e2'])\n",
    "sr_W = np.array(sourcescfht['weight'])\n",
    "sr_M = np.array(sourcescfht['m'])\n",
    "\n",
    "clusters['INDEX'] = np.array(range(len(clusters)))"
   ]
  },
  {
   "cell_type": "code",
   "execution_count": null,
   "metadata": {},
   "outputs": [],
   "source": [
    "cl_RA=np.radians(np.array(clusters['RA']))\n",
    "cl_DEC= np.radians(np.array(clusters['DEC']))\n",
    "cl_z= np.array(clusters['Z'])\n",
    "cl = np.array([cl_RA,cl_DEC,cl_z]).T"
   ]
  },
  {
   "cell_type": "code",
   "execution_count": null,
   "metadata": {},
   "outputs": [],
   "source": [
    "#let's use multiprocessing\n",
    "from multiprocessing import Pool, freeze_support, cpu_count\n",
    "from functools import partial\n",
    "\n",
    "# you can use whatever, but your machine core count is usually a good choice (although maybe not the best)\n",
    "pool = Pool(cpu_count()) \n",
    "\n",
    "\n",
    "#We get a partial function with a constant galaxy catalogue to iterate with clusters.\n",
    "survey_lensing = partial(xlensing.data.cluster_lensing,sources=(sr_RA, sr_DEC, sr_z, sr_E1, sr_E2, sr_W,sr_M),radius=10.)"
   ]
  },
  {
   "cell_type": "code",
   "execution_count": null,
   "metadata": {},
   "outputs": [],
   "source": [
    "#Make a list of clusters to get lensing data\n",
    "clz = zip(cl_RA,cl_DEC,cl_z)\n",
    "clzlist = [x for x in clz]"
   ]
  },
  {
   "cell_type": "code",
   "execution_count": null,
   "metadata": {},
   "outputs": [],
   "source": [
    "resultsjpas = pool.map(survey_lensing, clzlist)\n",
    "del pool"
   ]
  },
  {
   "cell_type": "code",
   "execution_count": null,
   "metadata": {},
   "outputs": [],
   "source": [
    "for result in resultsjpas:\n",
    "    print(result['Count'])"
   ]
  },
  {
   "cell_type": "code",
   "execution_count": null,
   "metadata": {},
   "outputs": [],
   "source": [
    "pickle_out = open(\"Results/jpas_results.pickle\",\"wb\")\n",
    "pickle.dump(resultsjpas, pickle_out)\n",
    "pickle_out.close()"
   ]
  },
  {
   "cell_type": "code",
   "execution_count": null,
   "metadata": {},
   "outputs": [],
   "source": [
    "stick=[cluster for cluster in clusters[0:9]]"
   ]
  },
  {
   "cell_type": "code",
   "execution_count": null,
   "metadata": {},
   "outputs": [],
   "source": [
    "Nboot=500\n",
    "stick_results = []\n",
    "for stake in stick:\n",
    "    t = time.time()\n",
    "    clusterbkgs = []\n",
    "    index =stake['INDEX']\n",
    "    Sigma_crit = np.array(results[index]['Critical Density'])\n",
    "    e_t = np.array(results[index]['Tangential Shear'])\n",
    "    e_x = np.array(results[index]['Critical Density'])\n",
    "    W = np.array(results[index]['Weights'])\n",
    "    M = np.array(results[index]['Mult. Bias'])\n",
    "    R = np.array(results[index]['Radial Distance'])\n",
    "    clusterbkgs.append(np.array([Sigma_crit, e_t, e_x, W, R,M]))\n",
    "    sigmas, sigmas_cov, xigmas, xigmas_cov = xlensing.data.stack(clusterbkgs,bins_lims,Nboot)\n",
    "    stick_results.append( ( sigmas, sigmas_cov, xigmas, xigmas_cov) )\n",
    "    print(\"Done in \" + str(time.time()-t) + \" seconds.\\n\")"
   ]
  },
  {
   "cell_type": "code",
   "execution_count": null,
   "metadata": {},
   "outputs": [],
   "source": [
    "plt.figure(figsize=(7,9))\n",
    "k=0\n",
    "for stickresult in stick_results:\n",
    "    \n",
    "    plt.scatter(radii,np.array(stickresult[0]),label='{}'.format(k))\n",
    "    plt.errorbar(radii,np.array(stickresult[0]),yerr=np.sqrt(np.diag(stickresult[1])),fmt='.')\n",
    "    k=k+1\n",
    "plt.legend()\n",
    "plt.xscale('log')\n",
    "#plt.yscale('log')\n",
    "plt.savefig('jpasdata.pdf')"
   ]
  },
  {
   "cell_type": "code",
   "execution_count": null,
   "metadata": {},
   "outputs": [],
   "source": [
    "def NFWsimple(theta,Z,radii):\n",
    "    M200, C200  = theta\n",
    "    result = xlensing.model.NFW_shear(M200, C200, Z, 1.0, 0.3, 1e10,radii)['Signal']\n",
    "    return result"
   ]
  },
  {
   "cell_type": "code",
   "execution_count": null,
   "metadata": {},
   "outputs": [],
   "source": [
    "M200lo, M200hi = 1e10, 1e15\n",
    "C200lo, C200hi = 0, 15\n",
    "PCClo, PCChi = 0., 1\n",
    "priorM200 = xlensing.fitting.ln_flat_prior_maker(M200lo, M200hi,0)\n",
    "priorC200 = xlensing.fitting.ln_flat_prior_maker(C200lo, C200hi,1)\n",
    "#priorPCC = xlensing.fitting.ln_flat_prior_maker(PCClo, PCChi,2) ##Zhang et al. 2019\n",
    "prior = lambda theta : priorM200(theta) + priorC200(theta)"
   ]
  },
  {
   "cell_type": "code",
   "execution_count": null,
   "metadata": {},
   "outputs": [],
   "source": [
    "ndim, nwalkers, steps = 2, 256, 256\n",
    "samplestick = []\n",
    "#for each stack, run MCMC\n",
    "burnin=round(steps/4.)\n",
    "for j in range(len(stick_results)):\n",
    "    stickresult = stick_results[j]\n",
    "    signal = sigmas\n",
    "    covariance = sigmas_cov\n",
    "    mean_z = np.average(stick[j]['Z'])\n",
    "\n",
    "    #build data likelihood\n",
    "    model = lambda theta: NFWsimple(theta,mean_z,radii)\n",
    "    likelihood = xlensing.fitting.ln_gaussian_likelihood_maker((stickresult[0],stickresult[1]),model)\n",
    "    posterior = lambda theta : likelihood(theta) +prior(theta)\n",
    "\n",
    "    #initialise walkers\n",
    "    pos = []\n",
    "    for i in range(nwalkers):\n",
    "        M200 = np.random.uniform(M200lo,M200hi)\n",
    "        C200 = np.random.uniform(C200lo,C200hi)\n",
    "        pos.append(np.array([M200,C200]))\n",
    "\n",
    "    sampler = emcee.EnsembleSampler(nwalkers, ndim, posterior,threads=16)\n",
    "    print(\"Running MCMC...\")\n",
    "    t = time.time()\n",
    "    sampler.run_mcmc(pos, steps, rstate0=np.random.get_state())\n",
    "    print(\"Done in \" + str(time.time()-t) + \" seconds.\")\n",
    "    samples = sampler.chain[:, burnin:, :].reshape((-1, ndim))\n",
    "    samplestick.append(samples)"
   ]
  },
  {
   "cell_type": "code",
   "execution_count": null,
   "metadata": {},
   "outputs": [],
   "source": [
    "for samples in samplestick:\n",
    "    mvir_tru,conc_tru= map(lambda v: (v[1], v[2]-v[1], v[1]-v[0]), zip(*np.percentile(samples, [16, 50, 84],axis=0)))\n",
    "    print(\"Mvir: {:.2e}\".format(mvir_tru[0]) + \" p {:.2e}\".format(mvir_tru[1]) + \" m {:.2e}\".format(mvir_tru[2]))\n",
    "    print(\"Conc: {:.2f}\".format(conc_tru[0]) + \" p {:.2f}\".format(conc_tru[1]) + \" m {:.2f}\".format(conc_tru[2]))\n",
    "    print(\"Pcc: {:.2f}\".format(pcc_tru[0]) + \" p {:.2f}\".format(pcc_tru[1]) + \" m {:.2f}\".format(pcc_tru[2]))\n",
    "    print()\n",
    "\n"
   ]
  },
  {
   "cell_type": "code",
   "execution_count": null,
   "metadata": {},
   "outputs": [],
   "source": [
    "labs =  [\"M_{200} [M_\\\\odot]\", \"c_{200}\" ]\n",
    "\n",
    "g = plots.getSubplotPlotter(subplot_size=6)\n",
    "sample = [MCSamples(samples=samples, names = labs,labels=labs) for i,samples in enumerate(samplestick)]\n",
    "\n",
    "g.triangle_plot(sample,filled=True)\n",
    "g.fig.savefig('jpas_clusters_lowz.png',bbox_inches='tight')"
   ]
  },
  {
   "cell_type": "markdown",
   "metadata": {},
   "source": [
    "## Multi likelihood"
   ]
  },
  {
   "cell_type": "code",
   "execution_count": null,
   "metadata": {},
   "outputs": [],
   "source": []
  },
  {
   "cell_type": "code",
   "execution_count": null,
   "metadata": {},
   "outputs": [],
   "source": []
  }
 ],
 "metadata": {
  "kernelspec": {
   "display_name": "Python 3",
   "language": "python",
   "name": "python3"
  },
  "language_info": {
   "codemirror_mode": {
    "name": "ipython",
    "version": 3
   },
   "file_extension": ".py",
   "mimetype": "text/x-python",
   "name": "python",
   "nbconvert_exporter": "python",
   "pygments_lexer": "ipython3",
   "version": "3.8.6"
  }
 },
 "nbformat": 4,
 "nbformat_minor": 4
}
