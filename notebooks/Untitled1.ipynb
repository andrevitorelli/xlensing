{
 "cells": [
  {
   "cell_type": "markdown",
   "id": "a7bd6cbe-6ed7-4432-a269-9c57b7c5dd17",
   "metadata": {},
   "source": [
    "# Stacking of AMICO clusters in mini-J-PAS"
   ]
  },
  {
   "cell_type": "code",
   "execution_count": 1,
   "id": "193d2408-f4a3-425c-a094-82c2c4c09111",
   "metadata": {},
   "outputs": [
    {
     "name": "stdout",
     "output_type": "stream",
     "text": [
      "Populating the interactive namespace from numpy and matplotlib\n"
     ]
    }
   ],
   "source": [
    "%pylab inline"
   ]
  },
  {
   "cell_type": "code",
   "execution_count": 2,
   "id": "7c11c9ae-8ae2-46f1-aed1-3fc4ee2df5c7",
   "metadata": {},
   "outputs": [
    {
     "name": "stdout",
     "output_type": "stream",
     "text": [
      "Lookup table loaded!\n"
     ]
    }
   ],
   "source": [
    "import xlensing\n",
    "import emcee\n",
    "\n",
    "from astropy.table import Table\n",
    "\n",
    "#utilities\n",
    "#import os\n",
    "import time\n",
    "import warnings\n",
    "import tqdm\n",
    "\n",
    "from multiprocessing import Pool, freeze_support, cpu_count\n",
    "from functools import partial"
   ]
  },
  {
   "cell_type": "code",
   "execution_count": null,
   "id": "e7488631-bc52-416e-a83b-e759213f7cc9",
   "metadata": {},
   "outputs": [],
   "source": []
  }
 ],
 "metadata": {
  "kernelspec": {
   "display_name": "Python 3",
   "language": "python",
   "name": "python3"
  },
  "language_info": {
   "codemirror_mode": {
    "name": "ipython",
    "version": 3
   },
   "file_extension": ".py",
   "mimetype": "text/x-python",
   "name": "python",
   "nbconvert_exporter": "python",
   "pygments_lexer": "ipython3",
   "version": "3.8.6"
  }
 },
 "nbformat": 4,
 "nbformat_minor": 5
}
